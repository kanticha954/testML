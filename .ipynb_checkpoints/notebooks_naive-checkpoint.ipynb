{
 "cells": [
  {
   "cell_type": "code",
   "execution_count": 1,
   "metadata": {},
   "outputs": [],
   "source": [
    "import matplotlib.pyplot as plt\n",
    "import itertools\n",
    "import pandas as pd\n",
    "import numpy as np\n",
    "import sklearn\n",
    "from scipy import stats\n",
    "from sklearn.preprocessing import LabelEncoder\n",
    "from sklearn.model_selection import train_test_split\n",
    "from sklearn.naive_bayes import GaussianNB\n",
    "from sklearn.metrics import accuracy_score\n",
    "\n",
    "le = LabelEncoder()\n",
    "import matplotlib.pyplot as plt\n",
    "from datetime import datetime\n",
    "import warnings\n",
    "warnings.filterwarnings(\"ignore\")\n",
    "from datetime import datetime"
   ]
  },
  {
   "cell_type": "code",
   "execution_count": 2,
   "metadata": {
    "tags": []
   },
   "outputs": [
    {
     "name": "stdout",
     "output_type": "stream",
     "text": [
      "   resistance_thumb  bend_thumb  resistance_index  bend_index  resistance_mid  \\\n",
      "0           10923.0           5          11311.04           7        10219.69   \n",
      "1           10923.0           5          10923.00           5         9900.00   \n",
      "2           10560.0           3          11726.79          10         9900.00   \n",
      "3           10560.0           3          11311.04           7         9900.00   \n",
      "4           10560.0           3          10923.00           5         9900.00   \n",
      "\n",
      "   bend_mid  resistance_ring  bend_ring   x   y    z  stage  \n",
      "0         1         12173.33         13  55  31 -100      0  \n",
      "1         0         12173.33         13  58  31  -98      0  \n",
      "2         0         12173.33         13  55  31  -99      0  \n",
      "3         0         12654.23         15  56  32 -101      1  \n",
      "4         0         12654.23         15  58  29 -101      1  \n"
     ]
    }
   ],
   "source": [
    "dataset = pd.read_csv('train_data2.csv')\n",
    "print(dataset.head())"
   ]
  },
  {
   "cell_type": "code",
   "execution_count": 3,
   "metadata": {},
   "outputs": [
    {
     "data": {
      "text/plain": [
       "resistance_thumb    True\n",
       "bend_thumb          True\n",
       "resistance_index    True\n",
       "bend_index          True\n",
       "resistance_mid      True\n",
       "bend_mid            True\n",
       "resistance_ring     True\n",
       "bend_ring           True\n",
       "x                   True\n",
       "y                   True\n",
       "z                   True\n",
       "stage               True\n",
       "dtype: bool"
      ]
     },
     "execution_count": 3,
     "metadata": {},
     "output_type": "execute_result"
    }
   ],
   "source": [
    "np.isnan(dataset.any()) #and gets False\n",
    "np.isfinite(dataset.all()) #and gets True"
   ]
  },
  {
   "cell_type": "code",
   "execution_count": 4,
   "metadata": {},
   "outputs": [],
   "source": [
    "dataset.replace([np.inf, -np.inf], np.nan, inplace=True)"
   ]
  },
  {
   "cell_type": "code",
   "execution_count": 5,
   "metadata": {
    "tags": []
   },
   "outputs": [
    {
     "data": {
      "text/plain": [
       "resistance_thumb    0\n",
       "bend_thumb          0\n",
       "resistance_index    0\n",
       "bend_index          0\n",
       "resistance_mid      0\n",
       "bend_mid            0\n",
       "resistance_ring     0\n",
       "bend_ring           0\n",
       "x                   0\n",
       "y                   0\n",
       "z                   0\n",
       "stage               0\n",
       "dtype: int64"
      ]
     },
     "execution_count": 5,
     "metadata": {},
     "output_type": "execute_result"
    }
   ],
   "source": [
    "dataset.isnull().sum()"
   ]
  },
  {
   "cell_type": "code",
   "execution_count": 6,
   "metadata": {},
   "outputs": [],
   "source": [
    "def cleandata(dataset):\n",
    "    for column in dataset.columns:\n",
    "        if dataset[column].dtype == type(object):\n",
    "            le = LabelEncoder()\n",
    "            dataset[column]=le.fit_transform(dataset[column])\n",
    "    return dataset"
   ]
  },
  {
   "cell_type": "code",
   "execution_count": 7,
   "metadata": {},
   "outputs": [
    {
     "name": "stdout",
     "output_type": "stream",
     "text": [
      "   resistance_thumb  bend_thumb  resistance_index  bend_index  resistance_mid  \\\n",
      "0           10923.0           5          11311.04           7        10219.69   \n",
      "1           10923.0           5          10923.00           5         9900.00   \n",
      "2           10560.0           3          11726.79          10         9900.00   \n",
      "3           10560.0           3          11311.04           7         9900.00   \n",
      "4           10560.0           3          10923.00           5         9900.00   \n",
      "\n",
      "   bend_mid  resistance_ring  bend_ring   x   y    z  stage  \n",
      "0         1         12173.33         13  55  31 -100      0  \n",
      "1         0         12173.33         13  58  31  -98      0  \n",
      "2         0         12173.33         13  55  31  -99      0  \n",
      "3         0         12654.23         15  56  32 -101      1  \n",
      "4         0         12654.23         15  58  29 -101      1  \n"
     ]
    }
   ],
   "source": [
    "dataset=cleandata(dataset)\n",
    "print(dataset.head())"
   ]
  },
  {
   "cell_type": "code",
   "execution_count": 8,
   "metadata": {},
   "outputs": [],
   "source": [
    "def split_feature_class(dataset,feature):\n",
    "    features = dataset.drop(feature,axis=1) #get all except income\n",
    "    labels = dataset[feature].copy() #get only income\n",
    "    return features,labels\n",
    "    "
   ]
  },
  {
   "cell_type": "code",
   "execution_count": 9,
   "metadata": {},
   "outputs": [
    {
     "name": "stdout",
     "output_type": "stream",
     "text": [
      "Accuracy =  0.8292682926829268\n",
      "Accuracy =  0.8048780487804879\n",
      "Accuracy =  0.8373983739837398\n",
      "Accuracy =  0.8780487804878049\n",
      "Accuracy =  0.8455284552845529\n",
      "Accuracy =  0.8373983739837398\n",
      "Accuracy =  0.8861788617886179\n",
      "Accuracy =  0.7967479674796748\n",
      "Accuracy =  0.8292682926829268\n",
      "Accuracy =  0.8617886178861789\n"
     ]
    }
   ],
   "source": [
    "for i in range(10):\n",
    "    training_set, test_set = train_test_split(dataset,test_size=0.2)\n",
    "\n",
    "    #train\n",
    "    train_features, train_labels = split_feature_class(training_set,\"stage\")\n",
    "    #แบ่งเป็น feature กับ label \n",
    "\n",
    "    #test\n",
    "    test_features, test_labels = split_feature_class(test_set,\"stage\")\n",
    "    \n",
    "    model = GaussianNB() \n",
    "    model.fit(train_features, train_labels)\n",
    "    clf_pred = model.predict(test_features)\n",
    "    clf_pred\n",
    "    \n",
    "    print(\"Accuracy = \",accuracy_score(test_labels,clf_pred))"
   ]
  },
  {
   "cell_type": "code",
   "execution_count": null,
   "metadata": {},
   "outputs": [],
   "source": []
  },
  {
   "cell_type": "code",
   "execution_count": 10,
   "metadata": {},
   "outputs": [
    {
     "data": {
      "text/plain": [
       "((428, 12), (184, 12))"
      ]
     },
     "execution_count": 10,
     "metadata": {},
     "output_type": "execute_result"
    }
   ],
   "source": [
    "#spilt train, test\n",
    "training_set, test_set = train_test_split(dataset,test_size=0.3)\n",
    "\n",
    "#train\n",
    "train_features, train_labels = split_feature_class(training_set,\"stage\")\n",
    "#แบ่งเป็น feature กับ label \n",
    "\n",
    "#test\n",
    "test_features, test_labels = split_feature_class(test_set,\"stage\")\n",
    "\n",
    "training_set.shape, test_set.shape\n"
   ]
  },
  {
   "cell_type": "code",
   "execution_count": 11,
   "metadata": {},
   "outputs": [
    {
     "name": "stdout",
     "output_type": "stream",
     "text": [
      "     resistance_thumb  bend_thumb  resistance_index  bend_index  \\\n",
      "331          25638.46          93          18425.00          50   \n",
      "543          19528.23          57          33429.00         140   \n",
      "399          15015.00          30          12654.23          15   \n",
      "525          19528.23          57          23783.57          82   \n",
      "486          25638.46          93          33429.00         140   \n",
      "..                ...         ...               ...         ...   \n",
      "45            9900.00           0           9900.00           0   \n",
      "393          22176.00          73          18425.00          50   \n",
      "21           30360.00         122          25638.46          93   \n",
      "31           16549.50          39          33429.00         140   \n",
      "596          17437.89          44          33429.00         140   \n",
      "\n",
      "     resistance_mid  bend_mid  resistance_ring  bend_ring   x   y    z  \n",
      "331        30360.00       122         10923.00          5  68  33 -156  \n",
      "543        30360.00       122         25638.46         93  78  38 -153  \n",
      "399        10560.00         3          8794.05         -7  65  36 -160  \n",
      "525        25638.46        93         27802.50        106  77  36 -155  \n",
      "486        30360.00       122         27802.50        106  80  39 -153  \n",
      "..              ...       ...              ...        ...  ..  ..  ...  \n",
      "45          9599.12        -2          9599.12         -2  58  26 -104  \n",
      "393        10219.69         1         11311.04          7  63  34 -160  \n",
      "21         33429.00       140         37180.00        163  55  30 -104  \n",
      "31         33429.00       140         13173.60         19  56  28 -103  \n",
      "596        30360.00       122         27802.50        106  67  32 -158  \n",
      "\n",
      "[428 rows x 11 columns]\n"
     ]
    }
   ],
   "source": [
    "print(train_features)"
   ]
  },
  {
   "cell_type": "code",
   "execution_count": 12,
   "metadata": {},
   "outputs": [
    {
     "name": "stdout",
     "output_type": "stream",
     "text": [
      "331    3\n",
      "543    3\n",
      "399    3\n",
      "525    4\n",
      "486    5\n",
      "      ..\n",
      "45     1\n",
      "393    3\n",
      "21     2\n",
      "31     2\n",
      "596    3\n",
      "Name: stage, Length: 428, dtype: int64\n"
     ]
    }
   ],
   "source": [
    "print(train_labels)"
   ]
  },
  {
   "cell_type": "code",
   "execution_count": 13,
   "metadata": {},
   "outputs": [
    {
     "data": {
      "text/plain": [
       "GaussianNB()"
      ]
     },
     "execution_count": 13,
     "metadata": {},
     "output_type": "execute_result"
    }
   ],
   "source": [
    "#สร้าง model\n",
    "model = GaussianNB() \n",
    "model.fit(train_features, train_labels)\n"
   ]
  },
  {
   "cell_type": "code",
   "execution_count": 14,
   "metadata": {},
   "outputs": [
    {
     "data": {
      "text/plain": [
       "array([2, 3, 3, 3, 0, 3, 3, 3, 3, 4, 3, 4, 1, 1, 3, 3, 1, 2, 2, 1, 0, 0,\n",
       "       4, 0, 3, 3, 1, 1, 0, 3, 3, 1, 1, 0, 4, 4, 4, 3, 3, 3, 3, 0, 0, 0,\n",
       "       2, 1, 0, 3, 3, 1, 5, 4, 4, 1, 1, 1, 3, 4, 3, 1, 3, 4, 0, 3, 0, 3,\n",
       "       1, 1, 0, 4, 0, 2, 3, 5, 0, 3, 3, 1, 0, 0, 1, 3, 3, 0, 4, 0, 0, 4,\n",
       "       5, 4, 3, 3, 0, 1, 4, 0, 2, 3, 3, 2, 3, 3, 1, 3, 3, 3, 3, 2, 0, 3,\n",
       "       1, 4, 1, 4, 2, 1, 3, 4, 2, 2, 3, 0, 2, 3, 2, 3, 0, 1, 3, 0, 3, 1,\n",
       "       0, 3, 3, 4, 2, 0, 0, 3, 0, 1, 4, 4, 4, 3, 2, 3, 3, 3, 0, 1, 1, 3,\n",
       "       3, 1, 2, 2, 0, 3, 3, 3, 3, 0, 3, 0, 2, 3, 0, 1, 1, 3, 3, 4, 3, 0,\n",
       "       4, 3, 0, 2, 0, 0, 1, 3], dtype=int64)"
      ]
     },
     "execution_count": 14,
     "metadata": {},
     "output_type": "execute_result"
    }
   ],
   "source": [
    "#predict\n",
    "clf_pred = model.predict(test_features)\n",
    "clf_pred\n",
    "\n",
    "#ควรได้ซัก 80+"
   ]
  },
  {
   "cell_type": "code",
   "execution_count": 15,
   "metadata": {},
   "outputs": [
    {
     "data": {
      "text/html": [
       "<div>\n",
       "<style scoped>\n",
       "    .dataframe tbody tr th:only-of-type {\n",
       "        vertical-align: middle;\n",
       "    }\n",
       "\n",
       "    .dataframe tbody tr th {\n",
       "        vertical-align: top;\n",
       "    }\n",
       "\n",
       "    .dataframe thead th {\n",
       "        text-align: right;\n",
       "    }\n",
       "</style>\n",
       "<table border=\"1\" class=\"dataframe\">\n",
       "  <thead>\n",
       "    <tr style=\"text-align: right;\">\n",
       "      <th></th>\n",
       "      <th>resistance_thumb</th>\n",
       "      <th>bend_thumb</th>\n",
       "      <th>resistance_index</th>\n",
       "      <th>bend_index</th>\n",
       "      <th>resistance_mid</th>\n",
       "      <th>bend_mid</th>\n",
       "      <th>resistance_ring</th>\n",
       "      <th>bend_ring</th>\n",
       "      <th>x</th>\n",
       "      <th>y</th>\n",
       "      <th>z</th>\n",
       "    </tr>\n",
       "  </thead>\n",
       "  <tbody>\n",
       "    <tr>\n",
       "      <th>124</th>\n",
       "      <td>30360.00</td>\n",
       "      <td>122</td>\n",
       "      <td>25638.46</td>\n",
       "      <td>93</td>\n",
       "      <td>16549.50</td>\n",
       "      <td>39</td>\n",
       "      <td>25638.46</td>\n",
       "      <td>93</td>\n",
       "      <td>66</td>\n",
       "      <td>27</td>\n",
       "      <td>-106</td>\n",
       "    </tr>\n",
       "    <tr>\n",
       "      <th>516</th>\n",
       "      <td>11726.79</td>\n",
       "      <td>10</td>\n",
       "      <td>11311.04</td>\n",
       "      <td>7</td>\n",
       "      <td>11311.04</td>\n",
       "      <td>7</td>\n",
       "      <td>13173.60</td>\n",
       "      <td>19</td>\n",
       "      <td>78</td>\n",
       "      <td>38</td>\n",
       "      <td>-157</td>\n",
       "    </tr>\n",
       "    <tr>\n",
       "      <th>607</th>\n",
       "      <td>10219.69</td>\n",
       "      <td>1</td>\n",
       "      <td>10923.00</td>\n",
       "      <td>5</td>\n",
       "      <td>9599.12</td>\n",
       "      <td>-2</td>\n",
       "      <td>10560.00</td>\n",
       "      <td>3</td>\n",
       "      <td>68</td>\n",
       "      <td>33</td>\n",
       "      <td>-155</td>\n",
       "    </tr>\n",
       "    <tr>\n",
       "      <th>349</th>\n",
       "      <td>10219.69</td>\n",
       "      <td>1</td>\n",
       "      <td>9900.00</td>\n",
       "      <td>0</td>\n",
       "      <td>10560.00</td>\n",
       "      <td>3</td>\n",
       "      <td>8553.95</td>\n",
       "      <td>-8</td>\n",
       "      <td>70</td>\n",
       "      <td>34</td>\n",
       "      <td>-156</td>\n",
       "    </tr>\n",
       "    <tr>\n",
       "      <th>103</th>\n",
       "      <td>10219.69</td>\n",
       "      <td>1</td>\n",
       "      <td>10219.69</td>\n",
       "      <td>1</td>\n",
       "      <td>10219.69</td>\n",
       "      <td>1</td>\n",
       "      <td>9599.12</td>\n",
       "      <td>-2</td>\n",
       "      <td>63</td>\n",
       "      <td>27</td>\n",
       "      <td>-104</td>\n",
       "    </tr>\n",
       "  </tbody>\n",
       "</table>\n",
       "</div>"
      ],
      "text/plain": [
       "     resistance_thumb  bend_thumb  resistance_index  bend_index  \\\n",
       "124          30360.00         122          25638.46          93   \n",
       "516          11726.79          10          11311.04           7   \n",
       "607          10219.69           1          10923.00           5   \n",
       "349          10219.69           1           9900.00           0   \n",
       "103          10219.69           1          10219.69           1   \n",
       "\n",
       "     resistance_mid  bend_mid  resistance_ring  bend_ring   x   y    z  \n",
       "124        16549.50        39         25638.46         93  66  27 -106  \n",
       "516        11311.04         7         13173.60         19  78  38 -157  \n",
       "607         9599.12        -2         10560.00          3  68  33 -155  \n",
       "349        10560.00         3          8553.95         -8  70  34 -156  \n",
       "103        10219.69         1          9599.12         -2  63  27 -104  "
      ]
     },
     "execution_count": 15,
     "metadata": {},
     "output_type": "execute_result"
    }
   ],
   "source": [
    "test_features.head()"
   ]
  },
  {
   "cell_type": "code",
   "execution_count": 16,
   "metadata": {},
   "outputs": [
    {
     "data": {
      "text/plain": [
       "array([3], dtype=int64)"
      ]
     },
     "execution_count": 16,
     "metadata": {},
     "output_type": "execute_result"
    }
   ],
   "source": [
    "model.predict([[27400, 84, 19087, 90, 12500.04, 90, 22000, 100, 68,29,-155]])"
   ]
  },
  {
   "cell_type": "code",
   "execution_count": 17,
   "metadata": {},
   "outputs": [
    {
     "name": "stdout",
     "output_type": "stream",
     "text": [
      "Accuracy =  0.8315217391304348\n"
     ]
    }
   ],
   "source": [
    "print(\"Accuracy = \",accuracy_score(test_labels,clf_pred))"
   ]
  },
  {
   "cell_type": "code",
   "execution_count": 48,
   "metadata": {},
   "outputs": [
    {
     "data": {
      "image/png": "[encoded data removed]",
      "text/plain": [
       "<pyolite.display.Image at 0x6a634c8>"
      ]
     },
     "metadata": {},
     "output_type": "display_data"
    }
   ],
   "source": [
    "import matplotlib.pyplot as plt\n",
    "\n",
    "from sklearn.datasets import make_classification\n",
    "from sklearn.metrics import confusion_matrix, ConfusionMatrixDisplay\n",
    "from sklearn.model_selection import train_test_split\n",
    "\n",
    "cm = confusion_matrix(test_labels, clf_pred, labels= model.classes_)\n",
    "\n",
    "disp = ConfusionMatrixDisplay(confusion_matrix=cm,\n",
    "                               display_labels=model.classes_)\n",
    "disp.plot()\n",
    "plt.show()"
   ]
  },
  {
   "cell_type": "code",
   "execution_count": 29,
   "metadata": {},
   "outputs": [],
   "source": []
  },
  {
   "cell_type": "code",
   "execution_count": null,
   "metadata": {},
   "outputs": [],
   "source": []
  }
 ],
 "metadata": {
  "kernelspec": {
   "display_name": "Python 3 (ipykernel)",
   "language": "python",
   "name": "python3"
  },
  "language_info": {
   "codemirror_mode": {
    "name": "ipython",
    "version": 3
   },
   "file_extension": ".py",
   "mimetype": "text/x-python",
   "name": "python",
   "nbconvert_exporter": "python",
   "pygments_lexer": "ipython3",
   "version": "3.9.12"
  }
 },
 "nbformat": 4,
 "nbformat_minor": 4
}

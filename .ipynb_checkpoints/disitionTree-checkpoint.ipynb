{
 "cells": [
  {
   "cell_type": "code",
   "execution_count": 1,
   "metadata": {},
   "outputs": [
    {
     "name": "stdout",
     "output_type": "stream",
     "text": [
      "Index(['resistance_thumb', 'bend_thumb', 'resistance_index', 'bend_index',\n",
      "       'resistance_mid', 'bend_mid', 'resistance_ring', 'bend_ring', 'x', 'y',\n",
      "       'z', 'stage'],\n",
      "      dtype='object')\n"
     ]
    }
   ],
   "source": [
    "import numpy as np\n",
    "import pandas as pd\n",
    "import matplotlib.pyplot as plt\n",
    "from sklearn import datasets\n",
    "from sklearn.model_selection import train_test_split\n",
    "from sklearn.preprocessing import StandardScaler\n",
    "from sklearn.tree import DecisionTreeClassifier\n",
    "from sklearn.svm import SVC\n",
    "from sklearn.ensemble import RandomForestClassifier\n",
    "from sklearn.metrics import accuracy_score\n",
    "\n",
    "# Load the breast cancer data\n",
    "dataset = pd.read_csv('train_data2.csv')\n",
    "\n",
    "#breast_ca = datasets.load_breast_cancer()\n",
    "\n",
    "# Explore the data\n",
    "print(dataset.keys())\n"
   ]
  },
  {
   "cell_type": "code",
   "execution_count": 2,
   "metadata": {},
   "outputs": [],
   "source": [
    "# Putting feature variable to X\n",
    "X = dataset.drop('stage',axis=1)\n",
    "# Putting response variable to y\n",
    "y = dataset['stage']"
   ]
  },
  {
   "cell_type": "code",
   "execution_count": 3,
   "metadata": {},
   "outputs": [
    {
     "data": {
      "text/plain": [
       "((428, 11), (184, 11))"
      ]
     },
     "execution_count": 3,
     "metadata": {},
     "output_type": "execute_result"
    }
   ],
   "source": [
    "# now lets split the data into train and test\n",
    "from sklearn.model_selection import train_test_split\n",
    "\n",
    "X_train, X_test, y_train, y_test = train_test_split(X, y, train_size=0.7, random_state=42)\n",
    "X_train.shape, X_test.shape"
   ]
  },
  {
   "cell_type": "code",
   "execution_count": 4,
   "metadata": {},
   "outputs": [
    {
     "data": {
      "text/html": [
       "<div>\n",
       "<style scoped>\n",
       "    .dataframe tbody tr th:only-of-type {\n",
       "        vertical-align: middle;\n",
       "    }\n",
       "\n",
       "    .dataframe tbody tr th {\n",
       "        vertical-align: top;\n",
       "    }\n",
       "\n",
       "    .dataframe thead th {\n",
       "        text-align: right;\n",
       "    }\n",
       "</style>\n",
       "<table border=\"1\" class=\"dataframe\">\n",
       "  <thead>\n",
       "    <tr style=\"text-align: right;\">\n",
       "      <th></th>\n",
       "      <th>resistance_thumb</th>\n",
       "      <th>bend_thumb</th>\n",
       "      <th>resistance_index</th>\n",
       "      <th>bend_index</th>\n",
       "      <th>resistance_mid</th>\n",
       "      <th>bend_mid</th>\n",
       "      <th>resistance_ring</th>\n",
       "      <th>bend_ring</th>\n",
       "      <th>x</th>\n",
       "      <th>y</th>\n",
       "      <th>z</th>\n",
       "    </tr>\n",
       "  </thead>\n",
       "  <tbody>\n",
       "    <tr>\n",
       "      <th>167</th>\n",
       "      <td>15745.71</td>\n",
       "      <td>34</td>\n",
       "      <td>19528.23</td>\n",
       "      <td>57</td>\n",
       "      <td>25638.46</td>\n",
       "      <td>93</td>\n",
       "      <td>9315.43</td>\n",
       "      <td>-4</td>\n",
       "      <td>61</td>\n",
       "      <td>27</td>\n",
       "      <td>-101</td>\n",
       "    </tr>\n",
       "    <tr>\n",
       "      <th>54</th>\n",
       "      <td>10219.69</td>\n",
       "      <td>1</td>\n",
       "      <td>9900.00</td>\n",
       "      <td>0</td>\n",
       "      <td>9599.12</td>\n",
       "      <td>-2</td>\n",
       "      <td>12173.33</td>\n",
       "      <td>13</td>\n",
       "      <td>57</td>\n",
       "      <td>28</td>\n",
       "      <td>-103</td>\n",
       "    </tr>\n",
       "    <tr>\n",
       "      <th>577</th>\n",
       "      <td>20769.38</td>\n",
       "      <td>64</td>\n",
       "      <td>25638.46</td>\n",
       "      <td>93</td>\n",
       "      <td>30360.00</td>\n",
       "      <td>122</td>\n",
       "      <td>30360.00</td>\n",
       "      <td>122</td>\n",
       "      <td>69</td>\n",
       "      <td>35</td>\n",
       "      <td>-158</td>\n",
       "    </tr>\n",
       "    <tr>\n",
       "      <th>46</th>\n",
       "      <td>10560.00</td>\n",
       "      <td>3</td>\n",
       "      <td>9599.12</td>\n",
       "      <td>-2</td>\n",
       "      <td>9599.12</td>\n",
       "      <td>-2</td>\n",
       "      <td>9900.00</td>\n",
       "      <td>0</td>\n",
       "      <td>56</td>\n",
       "      <td>24</td>\n",
       "      <td>-105</td>\n",
       "    </tr>\n",
       "    <tr>\n",
       "      <th>93</th>\n",
       "      <td>12173.33</td>\n",
       "      <td>13</td>\n",
       "      <td>9315.43</td>\n",
       "      <td>-4</td>\n",
       "      <td>11311.04</td>\n",
       "      <td>7</td>\n",
       "      <td>13173.60</td>\n",
       "      <td>19</td>\n",
       "      <td>58</td>\n",
       "      <td>25</td>\n",
       "      <td>-107</td>\n",
       "    </tr>\n",
       "    <tr>\n",
       "      <th>...</th>\n",
       "      <td>...</td>\n",
       "      <td>...</td>\n",
       "      <td>...</td>\n",
       "      <td>...</td>\n",
       "      <td>...</td>\n",
       "      <td>...</td>\n",
       "      <td>...</td>\n",
       "      <td>...</td>\n",
       "      <td>...</td>\n",
       "      <td>...</td>\n",
       "      <td>...</td>\n",
       "    </tr>\n",
       "    <tr>\n",
       "      <th>71</th>\n",
       "      <td>33429.00</td>\n",
       "      <td>140</td>\n",
       "      <td>37180.00</td>\n",
       "      <td>163</td>\n",
       "      <td>19528.23</td>\n",
       "      <td>57</td>\n",
       "      <td>33429.00</td>\n",
       "      <td>140</td>\n",
       "      <td>61</td>\n",
       "      <td>24</td>\n",
       "      <td>-107</td>\n",
       "    </tr>\n",
       "    <tr>\n",
       "      <th>106</th>\n",
       "      <td>10560.00</td>\n",
       "      <td>3</td>\n",
       "      <td>9900.00</td>\n",
       "      <td>0</td>\n",
       "      <td>10560.00</td>\n",
       "      <td>3</td>\n",
       "      <td>9599.12</td>\n",
       "      <td>-2</td>\n",
       "      <td>64</td>\n",
       "      <td>25</td>\n",
       "      <td>-105</td>\n",
       "    </tr>\n",
       "    <tr>\n",
       "      <th>270</th>\n",
       "      <td>19528.23</td>\n",
       "      <td>57</td>\n",
       "      <td>15745.71</td>\n",
       "      <td>34</td>\n",
       "      <td>23783.57</td>\n",
       "      <td>82</td>\n",
       "      <td>23783.57</td>\n",
       "      <td>82</td>\n",
       "      <td>43</td>\n",
       "      <td>31</td>\n",
       "      <td>-100</td>\n",
       "    </tr>\n",
       "    <tr>\n",
       "      <th>435</th>\n",
       "      <td>11726.79</td>\n",
       "      <td>10</td>\n",
       "      <td>23783.57</td>\n",
       "      <td>82</td>\n",
       "      <td>27802.50</td>\n",
       "      <td>106</td>\n",
       "      <td>15745.71</td>\n",
       "      <td>34</td>\n",
       "      <td>64</td>\n",
       "      <td>35</td>\n",
       "      <td>-160</td>\n",
       "    </tr>\n",
       "    <tr>\n",
       "      <th>102</th>\n",
       "      <td>10219.69</td>\n",
       "      <td>1</td>\n",
       "      <td>9599.12</td>\n",
       "      <td>-2</td>\n",
       "      <td>10560.00</td>\n",
       "      <td>3</td>\n",
       "      <td>9599.12</td>\n",
       "      <td>-2</td>\n",
       "      <td>63</td>\n",
       "      <td>26</td>\n",
       "      <td>-103</td>\n",
       "    </tr>\n",
       "  </tbody>\n",
       "</table>\n",
       "<p>428 rows × 11 columns</p>\n",
       "</div>"
      ],
      "text/plain": [
       "     resistance_thumb  bend_thumb  resistance_index  bend_index  \\\n",
       "167          15745.71          34          19528.23          57   \n",
       "54           10219.69           1           9900.00           0   \n",
       "577          20769.38          64          25638.46          93   \n",
       "46           10560.00           3           9599.12          -2   \n",
       "93           12173.33          13           9315.43          -4   \n",
       "..                ...         ...               ...         ...   \n",
       "71           33429.00         140          37180.00         163   \n",
       "106          10560.00           3           9900.00           0   \n",
       "270          19528.23          57          15745.71          34   \n",
       "435          11726.79          10          23783.57          82   \n",
       "102          10219.69           1           9599.12          -2   \n",
       "\n",
       "     resistance_mid  bend_mid  resistance_ring  bend_ring   x   y    z  \n",
       "167        25638.46        93          9315.43         -4  61  27 -101  \n",
       "54          9599.12        -2         12173.33         13  57  28 -103  \n",
       "577        30360.00       122         30360.00        122  69  35 -158  \n",
       "46          9599.12        -2          9900.00          0  56  24 -105  \n",
       "93         11311.04         7         13173.60         19  58  25 -107  \n",
       "..              ...       ...              ...        ...  ..  ..  ...  \n",
       "71         19528.23        57         33429.00        140  61  24 -107  \n",
       "106        10560.00         3          9599.12         -2  64  25 -105  \n",
       "270        23783.57        82         23783.57         82  43  31 -100  \n",
       "435        27802.50       106         15745.71         34  64  35 -160  \n",
       "102        10560.00         3          9599.12         -2  63  26 -103  \n",
       "\n",
       "[428 rows x 11 columns]"
      ]
     },
     "execution_count": 4,
     "metadata": {},
     "output_type": "execute_result"
    }
   ],
   "source": [
    "X_train"
   ]
  },
  {
   "cell_type": "code",
   "execution_count": 11,
   "metadata": {},
   "outputs": [
    {
     "name": "stdout",
     "output_type": "stream",
     "text": [
      "Accuracy =  0.9347826086956522\n",
      "Accuracy =  0.9347826086956522\n",
      "Accuracy =  0.9347826086956522\n"
     ]
    }
   ],
   "source": [
    "for i in range(3):\n",
    "\n",
    "    model = RandomForestClassifier(random_state=42, n_jobs=-1, max_depth=5,\n",
    "                                       n_estimators=100, oob_score=True)\n",
    "    model.fit(X_train, y_train)\n",
    "    \n",
    "    #Predicting the test set result  \n",
    "    y_pred = model.predict(X_test)  \n",
    "    y_pred\n",
    "    print(\"Accuracy = \",accuracy_score(y_test, y_pred))\n",
    "    "
   ]
  },
  {
   "cell_type": "code",
   "execution_count": 12,
   "metadata": {},
   "outputs": [
    {
     "data": {
      "text/plain": [
       "array([2, 1, 1, 3, 1, 0, 4, 3, 4, 0, 1, 0, 0, 3, 0, 3, 3, 4, 1, 1, 0, 1,\n",
       "       3, 1, 2, 3, 3, 0, 0, 0, 0, 0, 2, 3, 3, 3, 4, 0, 3, 2, 3, 3, 3, 3,\n",
       "       0, 3, 0, 1, 2, 1, 3, 0, 0, 2, 3, 1, 3, 1, 2, 3, 0, 2, 0, 3, 3, 1,\n",
       "       1, 1, 1, 3, 2, 3, 1, 1, 2, 3, 2, 3, 3, 3, 3, 3, 3, 1, 3, 3, 4, 3,\n",
       "       3, 1, 0, 1, 4, 3, 1, 0, 3, 4, 2, 1, 4, 3, 1, 3, 2, 0, 3, 1, 0, 3,\n",
       "       1, 3, 1, 3, 2, 1, 1, 4, 4, 4, 1, 2, 2, 3, 1, 3, 2, 1, 3, 1, 0, 2,\n",
       "       3, 1, 3, 3, 0, 3, 1, 2, 0, 0, 0, 3, 5, 1, 2, 0, 0, 2, 2, 3, 4, 1,\n",
       "       3, 1, 3, 3, 2, 1, 3, 3, 3, 3, 0, 0, 2, 4, 1, 1, 3, 0, 2, 0, 3, 0,\n",
       "       3, 1, 3, 3, 0, 0, 1, 3], dtype=int64)"
      ]
     },
     "execution_count": 12,
     "metadata": {},
     "output_type": "execute_result"
    }
   ],
   "source": [
    "y_pred"
   ]
  },
  {
   "cell_type": "code",
   "execution_count": 13,
   "metadata": {},
   "outputs": [
    {
     "data": {
      "text/plain": [
       "0.8785046728971962"
      ]
     },
     "execution_count": 13,
     "metadata": {},
     "output_type": "execute_result"
    }
   ],
   "source": [
    "model.oob_score_"
   ]
  },
  {
   "cell_type": "code",
   "execution_count": 14,
   "metadata": {},
   "outputs": [
    {
     "data": {
      "image/png": "[encoded data removed]",
      "text/plain": [
       "<Figure size 432x288 with 2 Axes>"
      ]
     },
     "metadata": {
      "needs_background": "light"
     },
     "output_type": "display_data"
    }
   ],
   "source": [
    "import matplotlib.pyplot as plt\n",
    "\n",
    "from sklearn.datasets import make_classification\n",
    "from sklearn.metrics import confusion_matrix, ConfusionMatrixDisplay\n",
    "from sklearn.model_selection import train_test_split\n",
    "\n",
    "cm = confusion_matrix(y_test, y_pred, labels= model.classes_)\n",
    "\n",
    "disp = ConfusionMatrixDisplay(confusion_matrix=cm,\n",
    "                               display_labels=model.classes_)\n",
    "disp.plot()\n",
    "plt.show()"
   ]
  },
  {
   "cell_type": "code",
   "execution_count": 15,
   "metadata": {},
   "outputs": [],
   "source": [
    "#model.predict([[27400, 84, 19087, 90, 12500.04, 90, 22000, 100, 68,29,-155]])"
   ]
  },
  {
   "cell_type": "code",
   "execution_count": 17,
   "metadata": {},
   "outputs": [],
   "source": [
    "from sklearn.ensemble import RandomForestClassifier\n",
    "\n",
    "model = RandomForestClassifier(random_state=42, n_jobs=-1, max_depth=5,\n",
    "                                       n_estimators=100, oob_score=True)\n",
    "\n",
    "rf = RandomForestClassifier(random_state=42, n_jobs=-1)"
   ]
  },
  {
   "cell_type": "code",
   "execution_count": 18,
   "metadata": {},
   "outputs": [],
   "source": [
    "#model.predict([[10923, 5, 11330, 7, 10003, 0, 12200, 12, 6, 31, -158]])"
   ]
  },
  {
   "cell_type": "code",
   "execution_count": 19,
   "metadata": {},
   "outputs": [],
   "source": [
    "params = {\n",
    "    'max_depth': [2,3,5,10,20],\n",
    "    'min_samples_leaf': [5,10,20,50,100,200],\n",
    "    'n_estimators': [10,25,30,50,100,200]\n",
    "}"
   ]
  },
  {
   "cell_type": "code",
   "execution_count": 20,
   "metadata": {},
   "outputs": [],
   "source": [
    "#model.predict([[27400, 84, 19087, 90, 12500.04, 90, 22000, 100, 68,29,-155]])"
   ]
  },
  {
   "cell_type": "code",
   "execution_count": 21,
   "metadata": {},
   "outputs": [],
   "source": [
    "from sklearn.model_selection import GridSearchCV"
   ]
  },
  {
   "cell_type": "code",
   "execution_count": 22,
   "metadata": {},
   "outputs": [],
   "source": [
    "# Instantiate the grid search model\n",
    "grid_search = GridSearchCV(estimator=rf,\n",
    "                           param_grid=params,\n",
    "                           cv = 4,\n",
    "                           n_jobs=-1, verbose=1, scoring=\"accuracy\")"
   ]
  },
  {
   "cell_type": "code",
   "execution_count": null,
   "metadata": {},
   "outputs": [
    {
     "name": "stdout",
     "output_type": "stream",
     "text": [
      "Fitting 4 folds for each of 180 candidates, totalling 720 fits\n"
     ]
    }
   ],
   "source": [
    "%%time\n",
    "grid_search.fit(X_train, y_train)"
   ]
  },
  {
   "cell_type": "code",
   "execution_count": null,
   "metadata": {},
   "outputs": [],
   "source": [
    "grid_search.best_score_"
   ]
  },
  {
   "cell_type": "code",
   "execution_count": 86,
   "metadata": {},
   "outputs": [
    {
     "data": {
      "text/plain": [
       "RandomForestClassifier(max_depth=10, min_samples_leaf=5, n_estimators=10,\n",
       "                       n_jobs=-1, random_state=42)"
      ]
     },
     "execution_count": 86,
     "metadata": {},
     "output_type": "execute_result"
    }
   ],
   "source": [
    "rf_best = grid_search.best_estimator_\n",
    "rf_best"
   ]
  },
  {
   "cell_type": "code",
   "execution_count": 87,
   "metadata": {},
   "outputs": [],
   "source": [
    "from sklearn.tree import plot_tree\n",
    "plt.figure(figsize=(80,40))\n",
    "plot_tree(rf_best.estimators_[5], feature_names = X.columns,class_names=['5', '4', '3', '2', '1', '0'],filled=True);"
   ]
  },
  {
   "cell_type": "code",
   "execution_count": 88,
   "metadata": {},
   "outputs": [
    {
     "data": {
      "text/plain": [
       "array([0.04955784, 0.03424746, 0.07254392, 0.08789719, 0.05569357,\n",
       "       0.07365468, 0.06015171, 0.0671223 , 0.13442365, 0.09129949,\n",
       "       0.27340819])"
      ]
     },
     "execution_count": 88,
     "metadata": {},
     "output_type": "execute_result"
    }
   ],
   "source": [
    "rf_best.feature_importances_"
   ]
  },
  {
   "cell_type": "code",
   "execution_count": 89,
   "metadata": {},
   "outputs": [],
   "source": [
    "imp_df = pd.DataFrame({\n",
    "    \"Varname\": X_train.columns,\n",
    "    \"Imp\": rf_best.feature_importances_\n",
    "})"
   ]
  },
  {
   "cell_type": "code",
   "execution_count": 90,
   "metadata": {},
   "outputs": [
    {
     "data": {
      "text/html": [
       "<div>\n",
       "<style scoped>\n",
       "    .dataframe tbody tr th:only-of-type {\n",
       "        vertical-align: middle;\n",
       "    }\n",
       "\n",
       "    .dataframe tbody tr th {\n",
       "        vertical-align: top;\n",
       "    }\n",
       "\n",
       "    .dataframe thead th {\n",
       "        text-align: right;\n",
       "    }\n",
       "</style>\n",
       "<table border=\"1\" class=\"dataframe\">\n",
       "  <thead>\n",
       "    <tr style=\"text-align: right;\">\n",
       "      <th></th>\n",
       "      <th>Varname</th>\n",
       "      <th>Imp</th>\n",
       "    </tr>\n",
       "  </thead>\n",
       "  <tbody>\n",
       "    <tr>\n",
       "      <th>10</th>\n",
       "      <td>z</td>\n",
       "      <td>0.273408</td>\n",
       "    </tr>\n",
       "    <tr>\n",
       "      <th>8</th>\n",
       "      <td>x</td>\n",
       "      <td>0.134424</td>\n",
       "    </tr>\n",
       "    <tr>\n",
       "      <th>9</th>\n",
       "      <td>y</td>\n",
       "      <td>0.091299</td>\n",
       "    </tr>\n",
       "    <tr>\n",
       "      <th>3</th>\n",
       "      <td>bend_index</td>\n",
       "      <td>0.087897</td>\n",
       "    </tr>\n",
       "    <tr>\n",
       "      <th>5</th>\n",
       "      <td>bend_mid</td>\n",
       "      <td>0.073655</td>\n",
       "    </tr>\n",
       "    <tr>\n",
       "      <th>2</th>\n",
       "      <td>resistance_index</td>\n",
       "      <td>0.072544</td>\n",
       "    </tr>\n",
       "    <tr>\n",
       "      <th>7</th>\n",
       "      <td>bend_ring</td>\n",
       "      <td>0.067122</td>\n",
       "    </tr>\n",
       "    <tr>\n",
       "      <th>6</th>\n",
       "      <td>resistance_ring</td>\n",
       "      <td>0.060152</td>\n",
       "    </tr>\n",
       "    <tr>\n",
       "      <th>4</th>\n",
       "      <td>resistance_mid</td>\n",
       "      <td>0.055694</td>\n",
       "    </tr>\n",
       "    <tr>\n",
       "      <th>0</th>\n",
       "      <td>resistance_thumb</td>\n",
       "      <td>0.049558</td>\n",
       "    </tr>\n",
       "    <tr>\n",
       "      <th>1</th>\n",
       "      <td>bend_thumb</td>\n",
       "      <td>0.034247</td>\n",
       "    </tr>\n",
       "  </tbody>\n",
       "</table>\n",
       "</div>"
      ],
      "text/plain": [
       "             Varname       Imp\n",
       "10                 z  0.273408\n",
       "8                  x  0.134424\n",
       "9                  y  0.091299\n",
       "3         bend_index  0.087897\n",
       "5           bend_mid  0.073655\n",
       "2   resistance_index  0.072544\n",
       "7          bend_ring  0.067122\n",
       "6    resistance_ring  0.060152\n",
       "4     resistance_mid  0.055694\n",
       "0   resistance_thumb  0.049558\n",
       "1         bend_thumb  0.034247"
      ]
     },
     "execution_count": 90,
     "metadata": {},
     "output_type": "execute_result"
    }
   ],
   "source": [
    "imp_df.sort_values(by=\"Imp\", ascending=False)"
   ]
  },
  {
   "cell_type": "code",
   "execution_count": null,
   "metadata": {},
   "outputs": [],
   "source": []
  }
 ],
 "metadata": {
  "kernelspec": {
   "display_name": "Python 3 (ipykernel)",
   "language": "python",
   "name": "python3"
  },
  "language_info": {
   "codemirror_mode": {
    "name": "ipython",
    "version": 3
   },
   "file_extension": ".py",
   "mimetype": "text/x-python",
   "name": "python",
   "nbconvert_exporter": "python",
   "pygments_lexer": "ipython3",
   "version": "3.9.12"
  }
 },
 "nbformat": 4,
 "nbformat_minor": 4
}

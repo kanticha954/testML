import joblib


classifier = joblib.load('model.h5')
print("Enter the following details to make the predictions:- n")


resistance_thumb = float(input("Enter resistance_thumb:- "))
bend_thumb = int(input("Enter bend_thumb:- "))
resistance_index = float(input("Enter resistance_index:- "))
bend_index = int(input("Enter bend_index:- "))
resistance_mid = float(input("Enter resistance_mid:- "))
bend_mid = int(input("Enter bend_mid:- "))
resistance_ring = float(input("Enter resistance_ring:- "))
bend_ring = int(input("Enter bend_ring:- "))
resistance_little = float(input("Enter resistance_little:- "))
bend_little = int(input("Enter bend_little:- "))
x = int(input("Enter X :- "))
y = int(input("Enter Y :- "))
z = int(input("Enter Z :- "))

get_data = np.array([[resistance_thumb, bend_thumb, resistance_index,
                                  bend_index, resistance_mid, bend_mid,
                                  resistance_ring, bend_ring,
                                  resistance_little, bend_little,
                                  x, y, z]])

get_data = st_x.transform(get_data)
get_data.reshape(-1, 1)


model_pred = classifier.predict(get_data)

model_pred

if model_pred == 0:
    print("Stage 0")
elif model_pred == 1:
    print("Stage 1")
elif model_pred == 2:
    print("Stage 2")
elif model_pred == 3:
    print("Stage 3")
elif model_pred == 4:
    print("Stage 4")
elif model_pred == 5:
    print("Stage 5")
{
 "cells": [
  {
   "cell_type": "code",
   "execution_count": 6,
   "metadata": {},
   "outputs": [
    {
     "name": "stdout",
     "output_type": "stream",
     "text": [
      "Enter the following details to make the predictions:- n\n"
     ]
    },
    {
     "ename": "NotFittedError",
     "evalue": "This StandardScaler instance is not fitted yet. Call 'fit' with appropriate arguments before using this estimator.",
     "output_type": "error",
     "traceback": [
      "\u001b[1;31m---------------------------------------------------------------------------\u001b[0m",
      "\u001b[1;31mNotFittedError\u001b[0m                            Traceback (most recent call last)",
      "\u001b[1;32mc:\\Users\\ASUS\\Downloads\\testML\\test1.ipynb Cell 1\u001b[0m in \u001b[0;36m<cell line: 29>\u001b[1;34m()\u001b[0m\n\u001b[0;32m     <a href='vscode-notebook-cell:/c%3A/Users/ASUS/Downloads/testML/test1.ipynb#W0sZmlsZQ%3D%3D?line=22'>23</a>\u001b[0m get_data \u001b[39m=\u001b[39m np\u001b[39m.\u001b[39marray([[\u001b[39m10923\u001b[39m, \u001b[39m5\u001b[39m, \u001b[39m13173.6\u001b[39m, \u001b[39m19\u001b[39m, \u001b[39m14347.83\u001b[39m, \u001b[39m26\u001b[39m,\n\u001b[0;32m     <a href='vscode-notebook-cell:/c%3A/Users/ASUS/Downloads/testML/test1.ipynb#W0sZmlsZQ%3D%3D?line=23'>24</a>\u001b[0m                     \u001b[39m11311.04\u001b[39m, \u001b[39m7\u001b[39m, \u001b[39m12173.33\u001b[39m, \u001b[39m13\u001b[39m, \u001b[39m67\u001b[39m, \u001b[39m50\u001b[39m, \u001b[39m-\u001b[39m\u001b[39m122\u001b[39m]])\n\u001b[0;32m     <a href='vscode-notebook-cell:/c%3A/Users/ASUS/Downloads/testML/test1.ipynb#W0sZmlsZQ%3D%3D?line=26'>27</a>\u001b[0m st_x \u001b[39m=\u001b[39m StandardScaler()\n\u001b[1;32m---> <a href='vscode-notebook-cell:/c%3A/Users/ASUS/Downloads/testML/test1.ipynb#W0sZmlsZQ%3D%3D?line=28'>29</a>\u001b[0m get_data \u001b[39m=\u001b[39m st_x\u001b[39m.\u001b[39;49mtransform(get_data)\n\u001b[0;32m     <a href='vscode-notebook-cell:/c%3A/Users/ASUS/Downloads/testML/test1.ipynb#W0sZmlsZQ%3D%3D?line=29'>30</a>\u001b[0m get_data\u001b[39m.\u001b[39mreshape(\u001b[39m-\u001b[39m\u001b[39m1\u001b[39m, \u001b[39m1\u001b[39m)\n\u001b[0;32m     <a href='vscode-notebook-cell:/c%3A/Users/ASUS/Downloads/testML/test1.ipynb#W0sZmlsZQ%3D%3D?line=32'>33</a>\u001b[0m model_pred \u001b[39m=\u001b[39m classifier\u001b[39m.\u001b[39mpredict(get_data)\n",
      "File \u001b[1;32m~\\AppData\\Roaming\\Python\\Python38\\site-packages\\sklearn\\preprocessing\\_data.py:972\u001b[0m, in \u001b[0;36mStandardScaler.transform\u001b[1;34m(self, X, copy)\u001b[0m\n\u001b[0;32m    957\u001b[0m \u001b[39mdef\u001b[39;00m \u001b[39mtransform\u001b[39m(\u001b[39mself\u001b[39m, X, copy\u001b[39m=\u001b[39m\u001b[39mNone\u001b[39;00m):\n\u001b[0;32m    958\u001b[0m     \u001b[39m\"\"\"Perform standardization by centering and scaling.\u001b[39;00m\n\u001b[0;32m    959\u001b[0m \n\u001b[0;32m    960\u001b[0m \u001b[39m    Parameters\u001b[39;00m\n\u001b[1;32m   (...)\u001b[0m\n\u001b[0;32m    970\u001b[0m \u001b[39m        Transformed array.\u001b[39;00m\n\u001b[0;32m    971\u001b[0m \u001b[39m    \"\"\"\u001b[39;00m\n\u001b[1;32m--> 972\u001b[0m     check_is_fitted(\u001b[39mself\u001b[39;49m)\n\u001b[0;32m    974\u001b[0m     copy \u001b[39m=\u001b[39m copy \u001b[39mif\u001b[39;00m copy \u001b[39mis\u001b[39;00m \u001b[39mnot\u001b[39;00m \u001b[39mNone\u001b[39;00m \u001b[39melse\u001b[39;00m \u001b[39mself\u001b[39m\u001b[39m.\u001b[39mcopy\n\u001b[0;32m    975\u001b[0m     X \u001b[39m=\u001b[39m \u001b[39mself\u001b[39m\u001b[39m.\u001b[39m_validate_data(\n\u001b[0;32m    976\u001b[0m         X,\n\u001b[0;32m    977\u001b[0m         reset\u001b[39m=\u001b[39m\u001b[39mFalse\u001b[39;00m,\n\u001b[1;32m   (...)\u001b[0m\n\u001b[0;32m    981\u001b[0m         force_all_finite\u001b[39m=\u001b[39m\u001b[39m\"\u001b[39m\u001b[39mallow-nan\u001b[39m\u001b[39m\"\u001b[39m,\n\u001b[0;32m    982\u001b[0m     )\n",
      "File \u001b[1;32m~\\AppData\\Roaming\\Python\\Python38\\site-packages\\sklearn\\utils\\validation.py:1345\u001b[0m, in \u001b[0;36mcheck_is_fitted\u001b[1;34m(estimator, attributes, msg, all_or_any)\u001b[0m\n\u001b[0;32m   1340\u001b[0m     fitted \u001b[39m=\u001b[39m [\n\u001b[0;32m   1341\u001b[0m         v \u001b[39mfor\u001b[39;00m v \u001b[39min\u001b[39;00m \u001b[39mvars\u001b[39m(estimator) \u001b[39mif\u001b[39;00m v\u001b[39m.\u001b[39mendswith(\u001b[39m\"\u001b[39m\u001b[39m_\u001b[39m\u001b[39m\"\u001b[39m) \u001b[39mand\u001b[39;00m \u001b[39mnot\u001b[39;00m v\u001b[39m.\u001b[39mstartswith(\u001b[39m\"\u001b[39m\u001b[39m__\u001b[39m\u001b[39m\"\u001b[39m)\n\u001b[0;32m   1342\u001b[0m     ]\n\u001b[0;32m   1344\u001b[0m \u001b[39mif\u001b[39;00m \u001b[39mnot\u001b[39;00m fitted:\n\u001b[1;32m-> 1345\u001b[0m     \u001b[39mraise\u001b[39;00m NotFittedError(msg \u001b[39m%\u001b[39m {\u001b[39m\"\u001b[39m\u001b[39mname\u001b[39m\u001b[39m\"\u001b[39m: \u001b[39mtype\u001b[39m(estimator)\u001b[39m.\u001b[39m\u001b[39m__name__\u001b[39m})\n",
      "\u001b[1;31mNotFittedError\u001b[0m: This StandardScaler instance is not fitted yet. Call 'fit' with appropriate arguments before using this estimator."
     ]
    }
   ],
   "source": [
    "import joblib\n",
    "import numpy as np\n",
    "from sklearn.preprocessing import StandardScaler\n",
    "from sklearn.ensemble import RandomForestClassifier\n",
    "\n",
    "import matplotlib.pyplot as mtp  \n",
    "import pandas as pd  \n",
    "import matplotlib.pyplot as plt\n",
    "from sklearn.metrics import accuracy_score\n",
    "from sklearn.metrics import mean_absolute_error as mae\n",
    "from sklearn.preprocessing import StandardScaler\n",
    "from sklearn.ensemble import RandomForestClassifier\n",
    "\n",
    "from sklearn.datasets import make_classification\n",
    "from sklearn.metrics import confusion_matrix, ConfusionMatrixDisplay\n",
    "from sklearn.model_selection import train_test_split\n",
    "\n",
    "\n",
    "\n",
    "classifier = joblib.load('model.h5')\n",
    "print(\"Enter the following details to make the predictions:- n\")\n",
    "\n",
    "get_data = np.array([[10923, 5, 13173.6, 19, 14347.83, 26,\n",
    "                    11311.04, 7, 12173.33, 13, 67, 50, -122]])\n",
    "\n",
    "\n",
    "st_x = StandardScaler()\n",
    "\n",
    "get_data = st_x.transform(get_data)\n",
    "get_data.reshape(-1, 1)\n",
    "\n",
    "\n",
    "model_pred = classifier.predict(get_data)\n",
    "\n",
    "model_pred\n",
    "\n",
    "if model_pred == 0:\n",
    "    print(\"Stage 0\")\n",
    "elif model_pred == 1:\n",
    "    print(\"Stage 1\")\n",
    "elif model_pred == 2:\n",
    "    print(\"Stage 2\")\n",
    "elif model_pred == 3:\n",
    "    print(\"Stage 3\")\n",
    "elif model_pred == 4:\n",
    "    print(\"Stage 4\")\n",
    "elif model_pred == 5:\n",
    "    print(\"Stage 5\")\n"
   ]
  },
  {
   "cell_type": "code",
   "execution_count": null,
   "metadata": {},
   "outputs": [],
   "source": [
    "resistance_thumb = float(input(\"Enter resistance_thumb:- \"))\n",
    "bend_thumb = int(input(\"Enter bend_thumb:- \"))\n",
    "resistance_index = float(input(\"Enter resistance_index:- \"))\n",
    "bend_index = int(input(\"Enter bend_index:- \"))\n",
    "resistance_mid = float(input(\"Enter resistance_mid:- \"))\n",
    "bend_mid = int(input(\"Enter bend_mid:- \"))\n",
    "resistance_ring = float(input(\"Enter resistance_ring:- \"))\n",
    "bend_ring = int(input(\"Enter bend_ring:- \"))\n",
    "resistance_little = float(input(\"Enter resistance_little:- \"))\n",
    "bend_little = int(input(\"Enter bend_little:- \"))\n",
    "x = int(input(\"Enter X :- \"))\n",
    "y = int(input(\"Enter Y :- \"))\n",
    "z = int(input(\"Enter Z :- \"))\n",
    "\n",
    "get_data = np.array([[resistance_thumb, bend_thumb, resistance_index,\n",
    "                      bend_index, resistance_mid, bend_mid,\n",
    "                      resistance_ring, bend_ring,\n",
    "                      resistance_little, bend_little,\n",
    "                      x, y, z]])\n"
   ]
  }
 ],
 "metadata": {
  "kernelspec": {
   "display_name": "Python 3.8.9 64-bit",
   "language": "python",
   "name": "python3"
  },
  "language_info": {
   "codemirror_mode": {
    "name": "ipython",
    "version": 3
   },
   "file_extension": ".py",
   "mimetype": "text/x-python",
   "name": "python",
   "nbconvert_exporter": "python",
   "pygments_lexer": "ipython3",
   "version": "3.8.9"
  },
  "orig_nbformat": 4,
  "vscode": {
   "interpreter": {
    "hash": "570feb405e2e27c949193ac68f46852414290d515b0ba6e5d90d076ed2284471"
   }
  }
 },
 "nbformat": 4,
 "nbformat_minor": 2
}

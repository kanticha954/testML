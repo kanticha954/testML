{
 "cells": [
  {
   "cell_type": "code",
   "execution_count": 20,
   "metadata": {},
   "outputs": [],
   "source": [
    "import matplotlib.pyplot as plt\n",
    "import itertools\n",
    "import pandas as pd\n",
    "import numpy as np\n",
    "import sklearn\n",
    "from scipy import stats\n",
    "from sklearn.preprocessing import LabelEncoder\n",
    "from sklearn.model_selection import train_test_split\n",
    "from sklearn.naive_bayes import GaussianNB\n",
    "from sklearn.metrics import accuracy_score\n",
    "\n",
    "le = LabelEncoder()\n",
    "import matplotlib.pyplot as plt\n",
    "from datetime import datetime\n",
    "import warnings\n",
    "warnings.filterwarnings(\"ignore\")\n",
    "from datetime import datetime"
   ]
  },
  {
   "cell_type": "code",
   "execution_count": 21,
   "metadata": {
    "tags": []
   },
   "outputs": [
    {
     "name": "stdout",
     "output_type": "stream",
     "text": [
      "   resistance_thumb  bend_thumb  resistance_index  bend_index  resistance_mid  \\\n",
      "0          11311.04           7          13173.60          19        14347.83   \n",
      "1          10923.00           5          13173.60          19        13736.25   \n",
      "2          10923.00           5          13173.60          19        14347.83   \n",
      "3          11311.04           7          13173.60          19        14347.83   \n",
      "4          10923.00           5          12654.23          15        13736.25   \n",
      "\n",
      "   bend_mid  resistance_ring  bend_ring  resistance_little  bend_little   x  \\\n",
      "0        26         12173.33         13           12173.33           13  66   \n",
      "1        22         11726.79         10           12654.23           15  65   \n",
      "2        26         11311.04          7           12173.33           13  67   \n",
      "3        26         11311.04          7           12654.23           15  66   \n",
      "4        22         11311.04          7           12173.33           13  63   \n",
      "\n",
      "    y    z  stage  \n",
      "0  50 -119      0  \n",
      "1  47 -119      0  \n",
      "2  50 -122      0  \n",
      "3  50 -120      0  \n",
      "4  50 -122      0  \n"
     ]
    }
   ],
   "source": [
    "dataset = pd.read_csv('train_data4.csv')\n",
    "print(dataset.head())"
   ]
  },
  {
   "cell_type": "code",
   "execution_count": 28,
   "metadata": {},
   "outputs": [],
   "source": [
    "X = dataset.drop(\"stage\", axis=1)\n",
    "y = dataset[\"stage\"]\n",
    "\n",
    "X_train, X_test, y_train, y_test = train_test_split(X, y, test_size=0.3)\n",
    "\n",
    "def pick_best(X_train, X_test, y_train, y_test):\n",
    "    model = GaussianNB()\n",
    "    model.fit(X_train, y_train)\n",
    "    clf_pred = model.predict(X_test)\n",
    "    return clf_pred\n",
    "    \n",
    "\n",
    "\n",
    "model = pick_best(X_train, X_test, y_train, y_test)\n"
   ]
  },
  {
   "cell_type": "code",
   "execution_count": 32,
   "metadata": {},
   "outputs": [
    {
     "ename": "TypeError",
     "evalue": "pick_best() missing 4 required positional arguments: 'X_train', 'X_test', 'y_train', and 'y_test'",
     "output_type": "error",
     "traceback": [
      "\u001b[1;31m---------------------------------------------------------------------------\u001b[0m",
      "\u001b[1;31mTypeError\u001b[0m                                 Traceback (most recent call last)",
      "\u001b[1;32mc:\\Users\\ASUS\\Downloads\\testML\\model\\notebooks_naive.ipynb Cell 4\u001b[0m in \u001b[0;36m<cell line: 3>\u001b[1;34m()\u001b[0m\n\u001b[0;32m      <a href='vscode-notebook-cell:/c%3A/Users/ASUS/Downloads/testML/model/notebooks_naive.ipynb#X34sZmlsZQ%3D%3D?line=0'>1</a>\u001b[0m \u001b[39mfrom\u001b[39;00m \u001b[39mmicromlgen\u001b[39;00m \u001b[39mimport\u001b[39;00m port\n\u001b[1;32m----> <a href='vscode-notebook-cell:/c%3A/Users/ASUS/Downloads/testML/model/notebooks_naive.ipynb#X34sZmlsZQ%3D%3D?line=2'>3</a>\u001b[0m model \u001b[39m=\u001b[39m pick_best()\n\u001b[0;32m      <a href='vscode-notebook-cell:/c%3A/Users/ASUS/Downloads/testML/model/notebooks_naive.ipynb#X34sZmlsZQ%3D%3D?line=3'>4</a>\u001b[0m \u001b[39mprint\u001b[39m(port(model))\n",
      "\u001b[1;31mTypeError\u001b[0m: pick_best() missing 4 required positional arguments: 'X_train', 'X_test', 'y_train', and 'y_test'"
     ]
    }
   ],
   "source": [
    "from micromlgen import port\n",
    "\n",
    "model = pick_best()\n",
    "print(port(model))\n"
   ]
  },
  {
   "cell_type": "code",
   "execution_count": 3,
   "metadata": {},
   "outputs": [
    {
     "data": {
      "text/plain": [
       "resistance_thumb     True\n",
       "bend_thumb           True\n",
       "resistance_index     True\n",
       "bend_index           True\n",
       "resistance_mid       True\n",
       "bend_mid             True\n",
       "resistance_ring      True\n",
       "bend_ring            True\n",
       "resistance_little    True\n",
       "bend_little          True\n",
       "x                    True\n",
       "y                    True\n",
       "z                    True\n",
       "stage                True\n",
       "dtype: bool"
      ]
     },
     "execution_count": 3,
     "metadata": {},
     "output_type": "execute_result"
    }
   ],
   "source": [
    "np.isnan(dataset.any()) #and gets False\n",
    "np.isfinite(dataset.all()) #and gets True"
   ]
  },
  {
   "cell_type": "code",
   "execution_count": 4,
   "metadata": {},
   "outputs": [],
   "source": [
    "dataset.replace([np.inf, -np.inf], np.nan, inplace=True)"
   ]
  },
  {
   "cell_type": "code",
   "execution_count": 5,
   "metadata": {
    "tags": []
   },
   "outputs": [
    {
     "data": {
      "text/plain": [
       "resistance_thumb     0\n",
       "bend_thumb           0\n",
       "resistance_index     0\n",
       "bend_index           0\n",
       "resistance_mid       0\n",
       "bend_mid             0\n",
       "resistance_ring      0\n",
       "bend_ring            0\n",
       "resistance_little    0\n",
       "bend_little          0\n",
       "x                    0\n",
       "y                    0\n",
       "z                    0\n",
       "stage                0\n",
       "dtype: int64"
      ]
     },
     "execution_count": 5,
     "metadata": {},
     "output_type": "execute_result"
    }
   ],
   "source": [
    "dataset.isnull().sum()"
   ]
  },
  {
   "cell_type": "code",
   "execution_count": 6,
   "metadata": {},
   "outputs": [],
   "source": [
    "def cleandata(dataset):\n",
    "    for column in dataset.columns:\n",
    "        if dataset[column].dtype == type(object):\n",
    "            le = LabelEncoder()\n",
    "            dataset[column]=le.fit_transform(dataset[column])\n",
    "    return dataset"
   ]
  },
  {
   "cell_type": "code",
   "execution_count": 7,
   "metadata": {},
   "outputs": [
    {
     "name": "stdout",
     "output_type": "stream",
     "text": [
      "   resistance_thumb  bend_thumb  resistance_index  bend_index  resistance_mid  \\\n",
      "0          11311.04           7          13173.60          19        14347.83   \n",
      "1          10923.00           5          13173.60          19        13736.25   \n",
      "2          10923.00           5          13173.60          19        14347.83   \n",
      "3          11311.04           7          13173.60          19        14347.83   \n",
      "4          10923.00           5          12654.23          15        13736.25   \n",
      "\n",
      "   bend_mid  resistance_ring  bend_ring  resistance_little  bend_little   x  \\\n",
      "0        26         12173.33         13           12173.33           13  66   \n",
      "1        22         11726.79         10           12654.23           15  65   \n",
      "2        26         11311.04          7           12173.33           13  67   \n",
      "3        26         11311.04          7           12654.23           15  66   \n",
      "4        22         11311.04          7           12173.33           13  63   \n",
      "\n",
      "    y    z  stage  \n",
      "0  50 -119      0  \n",
      "1  47 -119      0  \n",
      "2  50 -122      0  \n",
      "3  50 -120      0  \n",
      "4  50 -122      0  \n"
     ]
    }
   ],
   "source": [
    "dataset=cleandata(dataset)\n",
    "print(dataset.head())"
   ]
  },
  {
   "cell_type": "code",
   "execution_count": 8,
   "metadata": {},
   "outputs": [],
   "source": [
    "def split_feature_class(dataset,feature):\n",
    "    features = dataset.drop(feature,axis=1) #get all except income\n",
    "    labels = dataset[feature].copy() #get only income\n",
    "    return features,labels\n",
    "    "
   ]
  },
  {
   "cell_type": "code",
   "execution_count": 13,
   "metadata": {},
   "outputs": [
    {
     "name": "stdout",
     "output_type": "stream",
     "text": [
      "Accuracy =  0.563265306122449\n",
      "Accuracy =  0.5836734693877551\n",
      "Accuracy =  0.6979591836734694\n",
      "Accuracy =  0.5959183673469388\n",
      "Accuracy =  0.6204081632653061\n",
      "Accuracy =  0.5795918367346938\n",
      "Accuracy =  0.5795918367346938\n",
      "Accuracy =  0.6081632653061224\n",
      "Accuracy =  0.7183673469387755\n",
      "Accuracy =  0.5755102040816327\n"
     ]
    }
   ],
   "source": [
    "for i in range(10):\n",
    "    training_set, test_set = train_test_split(dataset,test_size=0.2)\n",
    "\n",
    "    #train\n",
    "    train_features, train_labels = split_feature_class(training_set,\"stage\")\n",
    "    #แบ่งเป็น feature กับ label \n",
    "\n",
    "    #test\n",
    "    test_features, test_labels = split_feature_class(test_set,\"stage\")\n",
    "    \n",
    "    model = GaussianNB() \n",
    "    model.fit(train_features, train_labels)\n",
    "    clf_pred = model.predict(test_features)\n",
    "    clf_pred\n",
    "    \n",
    "    print(\"Accuracy = \",accuracy_score(test_labels,clf_pred))"
   ]
  },
  {
   "cell_type": "code",
   "execution_count": 14,
   "metadata": {},
   "outputs": [
    {
     "ename": "TypeError",
     "evalue": "'module' object is not callable",
     "output_type": "error",
     "traceback": [
      "\u001b[1;31m---------------------------------------------------------------------------\u001b[0m",
      "\u001b[1;31mTypeError\u001b[0m                                 Traceback (most recent call last)",
      "\u001b[1;32mc:\\Users\\ASUS\\Downloads\\testML\\model\\notebooks_naive.ipynb Cell 10\u001b[0m in \u001b[0;36m<cell line: 4>\u001b[1;34m()\u001b[0m\n\u001b[0;32m      <a href='vscode-notebook-cell:/c%3A/Users/ASUS/Downloads/testML/model/notebooks_naive.ipynb#X12sZmlsZQ%3D%3D?line=0'>1</a>\u001b[0m \u001b[39mfrom\u001b[39;00m \u001b[39mxml\u001b[39;00m\u001b[39m.\u001b[39;00m\u001b[39mparsers\u001b[39;00m\u001b[39m.\u001b[39;00m\u001b[39mexpat\u001b[39;00m \u001b[39mimport\u001b[39;00m model\n\u001b[0;32m      <a href='vscode-notebook-cell:/c%3A/Users/ASUS/Downloads/testML/model/notebooks_naive.ipynb#X12sZmlsZQ%3D%3D?line=1'>2</a>\u001b[0m \u001b[39mfrom\u001b[39;00m \u001b[39mmicromlgen\u001b[39;00m \u001b[39mimport\u001b[39;00m port\n\u001b[1;32m----> <a href='vscode-notebook-cell:/c%3A/Users/ASUS/Downloads/testML/model/notebooks_naive.ipynb#X12sZmlsZQ%3D%3D?line=3'>4</a>\u001b[0m clf \u001b[39m=\u001b[39m model()\n\u001b[0;32m      <a href='vscode-notebook-cell:/c%3A/Users/ASUS/Downloads/testML/model/notebooks_naive.ipynb#X12sZmlsZQ%3D%3D?line=4'>5</a>\u001b[0m \u001b[39mprint\u001b[39m(port(clf))\n",
      "\u001b[1;31mTypeError\u001b[0m: 'module' object is not callable"
     ]
    }
   ],
   "source": [
    "from xml.parsers.expat import model\n",
    "from micromlgen import port\n",
    "\n",
    "clf = model()\n",
    "print(port(clf))\n"
   ]
  },
  {
   "cell_type": "code",
   "execution_count": null,
   "metadata": {},
   "outputs": [],
   "source": []
  },
  {
   "cell_type": "code",
   "execution_count": 26,
   "metadata": {},
   "outputs": [
    {
     "data": {
      "text/plain": [
       "((856, 14), (368, 14))"
      ]
     },
     "execution_count": 26,
     "metadata": {},
     "output_type": "execute_result"
    }
   ],
   "source": [
    "#spilt train, test\n",
    "training_set, test_set = train_test_split(dataset,test_size=0.3)\n",
    "\n",
    "#train\n",
    "train_features, train_labels = split_feature_class(training_set,\"stage\")\n",
    "#แบ่งเป็น feature กับ label \n",
    "\n",
    "#test\n",
    "test_features, test_labels = split_feature_class(test_set,\"stage\")\n",
    "\n",
    "training_set.shape, test_set.shape\n"
   ]
  },
  {
   "cell_type": "code",
   "execution_count": 27,
   "metadata": {},
   "outputs": [
    {
     "name": "stdout",
     "output_type": "stream",
     "text": [
      "     resistance_thumb  bend_thumb  resistance_index  bend_index  \\\n",
      "163          19528.23          57          30360.00         122   \n",
      "493          11726.79          10          12173.33          13   \n",
      "25           33429.00         140          47897.14         227   \n",
      "792          18425.00          50          25638.46          93   \n",
      "992          30360.00         122          37180.00         163   \n",
      "..                ...         ...               ...         ...   \n",
      "135          11311.04           7          33429.00         140   \n",
      "480          22176.00          73          25638.46          93   \n",
      "308          12173.33          13          13173.60          19   \n",
      "169          23783.57          82          23783.57          82   \n",
      "806           9900.00           0          11726.79          10   \n",
      "\n",
      "     resistance_mid  bend_mid  resistance_ring  bend_ring  resistance_little  \\\n",
      "163        13173.60        19         12654.23         15           11311.04   \n",
      "493        25638.46        93          8553.95         -8           12173.33   \n",
      "25         41868.75       191         41868.75        191           47897.14   \n",
      "792        20769.38        64         19528.23         57           30360.00   \n",
      "992        41868.75       191         55935.00        275           47897.14   \n",
      "..              ...       ...              ...        ...                ...   \n",
      "135        37180.00       163         41868.75        191           41868.75   \n",
      "480        30360.00       122         15745.71         34           18425.00   \n",
      "308        12173.33        13          5490.52        -27           13736.25   \n",
      "169        25638.46        93         23783.57         82           18425.00   \n",
      "806         9900.00         0          8553.95         -8           10923.00   \n",
      "\n",
      "     bend_little   x   y    z  \n",
      "163            7  66  39 -123  \n",
      "493           13  68  33 -156  \n",
      "25           227  67  49 -118  \n",
      "792          122  62  29 -104  \n",
      "992          227 -47  45  -60  \n",
      "..           ...  ..  ..  ...  \n",
      "135          191  70  61 -114  \n",
      "480           50  67  34 -157  \n",
      "308           22  83  43 -154  \n",
      "169           50  65  38 -119  \n",
      "806            5  61  26 -102  \n",
      "\n",
      "[856 rows x 13 columns]\n"
     ]
    }
   ],
   "source": [
    "print(train_features)"
   ]
  },
  {
   "cell_type": "code",
   "execution_count": 28,
   "metadata": {},
   "outputs": [
    {
     "name": "stdout",
     "output_type": "stream",
     "text": [
      "163    3\n",
      "493    3\n",
      "25     4\n",
      "792    1\n",
      "992    2\n",
      "      ..\n",
      "135    3\n",
      "480    3\n",
      "308    3\n",
      "169    3\n",
      "806    0\n",
      "Name: stage, Length: 856, dtype: int64\n"
     ]
    }
   ],
   "source": [
    "print(train_labels)"
   ]
  },
  {
   "cell_type": "code",
   "execution_count": 29,
   "metadata": {},
   "outputs": [
    {
     "data": {
      "text/html": [
       "<style>#sk-container-id-2 {color: black;background-color: white;}#sk-container-id-2 pre{padding: 0;}#sk-container-id-2 div.sk-toggleable {background-color: white;}#sk-container-id-2 label.sk-toggleable__label {cursor: pointer;display: block;width: 100%;margin-bottom: 0;padding: 0.3em;box-sizing: border-box;text-align: center;}#sk-container-id-2 label.sk-toggleable__label-arrow:before {content: \"▸\";float: left;margin-right: 0.25em;color: #696969;}#sk-container-id-2 label.sk-toggleable__label-arrow:hover:before {color: black;}#sk-container-id-2 div.sk-estimator:hover label.sk-toggleable__label-arrow:before {color: black;}#sk-container-id-2 div.sk-toggleable__content {max-height: 0;max-width: 0;overflow: hidden;text-align: left;background-color: #f0f8ff;}#sk-container-id-2 div.sk-toggleable__content pre {margin: 0.2em;color: black;border-radius: 0.25em;background-color: #f0f8ff;}#sk-container-id-2 input.sk-toggleable__control:checked~div.sk-toggleable__content {max-height: 200px;max-width: 100%;overflow: auto;}#sk-container-id-2 input.sk-toggleable__control:checked~label.sk-toggleable__label-arrow:before {content: \"▾\";}#sk-container-id-2 div.sk-estimator input.sk-toggleable__control:checked~label.sk-toggleable__label {background-color: #d4ebff;}#sk-container-id-2 div.sk-label input.sk-toggleable__control:checked~label.sk-toggleable__label {background-color: #d4ebff;}#sk-container-id-2 input.sk-hidden--visually {border: 0;clip: rect(1px 1px 1px 1px);clip: rect(1px, 1px, 1px, 1px);height: 1px;margin: -1px;overflow: hidden;padding: 0;position: absolute;width: 1px;}#sk-container-id-2 div.sk-estimator {font-family: monospace;background-color: #f0f8ff;border: 1px dotted black;border-radius: 0.25em;box-sizing: border-box;margin-bottom: 0.5em;}#sk-container-id-2 div.sk-estimator:hover {background-color: #d4ebff;}#sk-container-id-2 div.sk-parallel-item::after {content: \"\";width: 100%;border-bottom: 1px solid gray;flex-grow: 1;}#sk-container-id-2 div.sk-label:hover label.sk-toggleable__label {background-color: #d4ebff;}#sk-container-id-2 div.sk-serial::before {content: \"\";position: absolute;border-left: 1px solid gray;box-sizing: border-box;top: 0;bottom: 0;left: 50%;z-index: 0;}#sk-container-id-2 div.sk-serial {display: flex;flex-direction: column;align-items: center;background-color: white;padding-right: 0.2em;padding-left: 0.2em;position: relative;}#sk-container-id-2 div.sk-item {position: relative;z-index: 1;}#sk-container-id-2 div.sk-parallel {display: flex;align-items: stretch;justify-content: center;background-color: white;position: relative;}#sk-container-id-2 div.sk-item::before, #sk-container-id-2 div.sk-parallel-item::before {content: \"\";position: absolute;border-left: 1px solid gray;box-sizing: border-box;top: 0;bottom: 0;left: 50%;z-index: -1;}#sk-container-id-2 div.sk-parallel-item {display: flex;flex-direction: column;z-index: 1;position: relative;background-color: white;}#sk-container-id-2 div.sk-parallel-item:first-child::after {align-self: flex-end;width: 50%;}#sk-container-id-2 div.sk-parallel-item:last-child::after {align-self: flex-start;width: 50%;}#sk-container-id-2 div.sk-parallel-item:only-child::after {width: 0;}#sk-container-id-2 div.sk-dashed-wrapped {border: 1px dashed gray;margin: 0 0.4em 0.5em 0.4em;box-sizing: border-box;padding-bottom: 0.4em;background-color: white;}#sk-container-id-2 div.sk-label label {font-family: monospace;font-weight: bold;display: inline-block;line-height: 1.2em;}#sk-container-id-2 div.sk-label-container {text-align: center;}#sk-container-id-2 div.sk-container {/* jupyter's `normalize.less` sets `[hidden] { display: none; }` but bootstrap.min.css set `[hidden] { display: none !important; }` so we also need the `!important` here to be able to override the default hidden behavior on the sphinx rendered scikit-learn.org. See: https://github.com/scikit-learn/scikit-learn/issues/21755 */display: inline-block !important;position: relative;}#sk-container-id-2 div.sk-text-repr-fallback {display: none;}</style><div id=\"sk-container-id-2\" class=\"sk-top-container\"><div class=\"sk-text-repr-fallback\"><pre>GaussianNB()</pre><b>In a Jupyter environment, please rerun this cell to show the HTML representation or trust the notebook. <br />On GitHub, the HTML representation is unable to render, please try loading this page with nbviewer.org.</b></div><div class=\"sk-container\" hidden><div class=\"sk-item\"><div class=\"sk-estimator sk-toggleable\"><input class=\"sk-toggleable__control sk-hidden--visually\" id=\"sk-estimator-id-2\" type=\"checkbox\" checked><label for=\"sk-estimator-id-2\" class=\"sk-toggleable__label sk-toggleable__label-arrow\">GaussianNB</label><div class=\"sk-toggleable__content\"><pre>GaussianNB()</pre></div></div></div></div></div>"
      ],
      "text/plain": [
       "GaussianNB()"
      ]
     },
     "execution_count": 29,
     "metadata": {},
     "output_type": "execute_result"
    }
   ],
   "source": [
    "#สร้าง model\n",
    "model = GaussianNB() \n",
    "model.fit(train_features, train_labels)\n"
   ]
  },
  {
   "cell_type": "code",
   "execution_count": 30,
   "metadata": {},
   "outputs": [
    {
     "data": {
      "text/plain": [
       "array([0, 0, 3, 0, 1, 3, 0, 3, 0, 2, 2, 0, 1, 0, 4, 3, 0, 0, 1, 1, 0, 1,\n",
       "       1, 4, 2, 3, 3, 1, 1, 3, 0, 4, 5, 3, 3, 4, 4, 4, 0, 1, 3, 2, 2, 4,\n",
       "       3, 4, 0, 3, 2, 2, 2, 0, 4, 0, 0, 3, 3, 0, 0, 4, 3, 1, 0, 0, 2, 0,\n",
       "       1, 0, 0, 2, 4, 2, 1, 0, 3, 0, 4, 2, 1, 1, 0, 3, 0, 2, 3, 0, 2, 2,\n",
       "       3, 0, 0, 4, 0, 0, 2, 0, 0, 0, 0, 0, 2, 3, 1, 3, 1, 1, 4, 2, 0, 0,\n",
       "       1, 3, 2, 0, 3, 0, 3, 1, 3, 3, 0, 0, 3, 0, 1, 2, 0, 2, 4, 0, 1, 3,\n",
       "       0, 0, 4, 2, 4, 0, 0, 3, 3, 1, 0, 1, 0, 2, 0, 2, 3, 1, 2, 3, 3, 0,\n",
       "       2, 3, 4, 0, 1, 0, 0, 0, 1, 4, 3, 0, 1, 0, 0, 0, 4, 0, 0, 0, 3, 2,\n",
       "       0, 2, 2, 5, 2, 3, 3, 0, 4, 1, 2, 3, 3, 0, 3, 3, 1, 0, 0, 1, 4, 3,\n",
       "       0, 0, 0, 2, 0, 0, 3, 4, 0, 3, 2, 0, 4, 3, 3, 1, 3, 1, 1, 0, 4, 3,\n",
       "       0, 2, 0, 3, 1, 2, 0, 0, 3, 1, 1, 3, 1, 2, 3, 0, 2, 4, 0, 3, 2, 2,\n",
       "       3, 3, 0, 3, 2, 0, 0, 4, 2, 3, 1, 1, 0, 1, 3, 3, 3, 4, 0, 5, 3, 2,\n",
       "       0, 0, 0, 0, 3, 2, 0, 0, 1, 4, 0, 3, 1, 4, 0, 4, 3, 0, 3, 4, 3, 0,\n",
       "       0, 0, 0, 4, 0, 0, 2, 0, 0, 0, 2, 2, 1, 4, 3, 3, 3, 2, 0, 2, 4, 2,\n",
       "       3, 3, 4, 0, 0, 4, 0, 3, 3, 5, 3, 0, 2, 2, 1, 2, 0, 1, 4, 4, 0, 1,\n",
       "       3, 4, 0, 0, 0, 4, 3, 3, 4, 1, 4, 3, 4, 3, 3, 1, 0, 4, 4, 1, 3, 0,\n",
       "       3, 4, 4, 4, 0, 1, 3, 0, 3, 4, 2, 3, 0, 0, 2, 0], dtype=int64)"
      ]
     },
     "execution_count": 30,
     "metadata": {},
     "output_type": "execute_result"
    }
   ],
   "source": [
    "#predict\n",
    "clf_pred = model.predict(test_features)\n",
    "clf_pred\n",
    "\n",
    "#ควรได้ซัก 80+"
   ]
  },
  {
   "cell_type": "code",
   "execution_count": 31,
   "metadata": {},
   "outputs": [
    {
     "data": {
      "text/html": [
       "<div>\n",
       "<style scoped>\n",
       "    .dataframe tbody tr th:only-of-type {\n",
       "        vertical-align: middle;\n",
       "    }\n",
       "\n",
       "    .dataframe tbody tr th {\n",
       "        vertical-align: top;\n",
       "    }\n",
       "\n",
       "    .dataframe thead th {\n",
       "        text-align: right;\n",
       "    }\n",
       "</style>\n",
       "<table border=\"1\" class=\"dataframe\">\n",
       "  <thead>\n",
       "    <tr style=\"text-align: right;\">\n",
       "      <th></th>\n",
       "      <th>resistance_thumb</th>\n",
       "      <th>bend_thumb</th>\n",
       "      <th>resistance_index</th>\n",
       "      <th>bend_index</th>\n",
       "      <th>resistance_mid</th>\n",
       "      <th>bend_mid</th>\n",
       "      <th>resistance_ring</th>\n",
       "      <th>bend_ring</th>\n",
       "      <th>resistance_little</th>\n",
       "      <th>bend_little</th>\n",
       "      <th>x</th>\n",
       "      <th>y</th>\n",
       "      <th>z</th>\n",
       "    </tr>\n",
       "  </thead>\n",
       "  <tbody>\n",
       "    <tr>\n",
       "      <th>666</th>\n",
       "      <td>10219.69</td>\n",
       "      <td>1</td>\n",
       "      <td>9900.00</td>\n",
       "      <td>0</td>\n",
       "      <td>9599.12</td>\n",
       "      <td>-2</td>\n",
       "      <td>12173.33</td>\n",
       "      <td>13</td>\n",
       "      <td>11311.04</td>\n",
       "      <td>7</td>\n",
       "      <td>57</td>\n",
       "      <td>28</td>\n",
       "      <td>-103</td>\n",
       "    </tr>\n",
       "    <tr>\n",
       "      <th>1021</th>\n",
       "      <td>12173.33</td>\n",
       "      <td>13</td>\n",
       "      <td>12654.23</td>\n",
       "      <td>15</td>\n",
       "      <td>12173.33</td>\n",
       "      <td>13</td>\n",
       "      <td>10923.00</td>\n",
       "      <td>5</td>\n",
       "      <td>11726.79</td>\n",
       "      <td>10</td>\n",
       "      <td>-43</td>\n",
       "      <td>32</td>\n",
       "      <td>-63</td>\n",
       "    </tr>\n",
       "    <tr>\n",
       "      <th>397</th>\n",
       "      <td>11726.79</td>\n",
       "      <td>10</td>\n",
       "      <td>22176.00</td>\n",
       "      <td>73</td>\n",
       "      <td>11726.79</td>\n",
       "      <td>10</td>\n",
       "      <td>11726.79</td>\n",
       "      <td>10</td>\n",
       "      <td>12654.23</td>\n",
       "      <td>15</td>\n",
       "      <td>76</td>\n",
       "      <td>37</td>\n",
       "      <td>-156</td>\n",
       "    </tr>\n",
       "    <tr>\n",
       "      <th>1178</th>\n",
       "      <td>10923.00</td>\n",
       "      <td>5</td>\n",
       "      <td>10560.00</td>\n",
       "      <td>3</td>\n",
       "      <td>10560.00</td>\n",
       "      <td>3</td>\n",
       "      <td>10560.00</td>\n",
       "      <td>3</td>\n",
       "      <td>11311.04</td>\n",
       "      <td>7</td>\n",
       "      <td>-29</td>\n",
       "      <td>82</td>\n",
       "      <td>-82</td>\n",
       "    </tr>\n",
       "    <tr>\n",
       "      <th>1204</th>\n",
       "      <td>15015.00</td>\n",
       "      <td>30</td>\n",
       "      <td>15015.00</td>\n",
       "      <td>30</td>\n",
       "      <td>10560.00</td>\n",
       "      <td>3</td>\n",
       "      <td>10219.69</td>\n",
       "      <td>1</td>\n",
       "      <td>13736.25</td>\n",
       "      <td>22</td>\n",
       "      <td>-30</td>\n",
       "      <td>82</td>\n",
       "      <td>-83</td>\n",
       "    </tr>\n",
       "  </tbody>\n",
       "</table>\n",
       "</div>"
      ],
      "text/plain": [
       "      resistance_thumb  bend_thumb  resistance_index  bend_index  \\\n",
       "666           10219.69           1           9900.00           0   \n",
       "1021          12173.33          13          12654.23          15   \n",
       "397           11726.79          10          22176.00          73   \n",
       "1178          10923.00           5          10560.00           3   \n",
       "1204          15015.00          30          15015.00          30   \n",
       "\n",
       "      resistance_mid  bend_mid  resistance_ring  bend_ring  resistance_little  \\\n",
       "666          9599.12        -2         12173.33         13           11311.04   \n",
       "1021        12173.33        13         10923.00          5           11726.79   \n",
       "397         11726.79        10         11726.79         10           12654.23   \n",
       "1178        10560.00         3         10560.00          3           11311.04   \n",
       "1204        10560.00         3         10219.69          1           13736.25   \n",
       "\n",
       "      bend_little   x   y    z  \n",
       "666             7  57  28 -103  \n",
       "1021           10 -43  32  -63  \n",
       "397            15  76  37 -156  \n",
       "1178            7 -29  82  -82  \n",
       "1204           22 -30  82  -83  "
      ]
     },
     "execution_count": 31,
     "metadata": {},
     "output_type": "execute_result"
    }
   ],
   "source": [
    "test_features.head()"
   ]
  },
  {
   "cell_type": "code",
   "execution_count": 1,
   "metadata": {},
   "outputs": [
    {
     "ename": "NameError",
     "evalue": "name 'model' is not defined",
     "output_type": "error",
     "traceback": [
      "\u001b[1;31m---------------------------------------------------------------------------\u001b[0m",
      "\u001b[1;31mNameError\u001b[0m                                 Traceback (most recent call last)",
      "\u001b[1;32mc:\\Users\\ASUS\\Downloads\\testML\\notebooks_naive.ipynb Cell 17\u001b[0m in \u001b[0;36m<cell line: 1>\u001b[1;34m()\u001b[0m\n\u001b[1;32m----> <a href='vscode-notebook-cell:/c%3A/Users/ASUS/Downloads/testML/notebooks_naive.ipynb#X22sZmlsZQ%3D%3D?line=0'>1</a>\u001b[0m model\u001b[39m.\u001b[39mpredict([[\u001b[39m17437.89\u001b[39m, \u001b[39m44\u001b[39m, \u001b[39m15745.71\u001b[39m, \u001b[39m34\u001b[39m, \u001b[39m15015\u001b[39m, \u001b[39m30\u001b[39m,\n\u001b[0;32m      <a href='vscode-notebook-cell:/c%3A/Users/ASUS/Downloads/testML/notebooks_naive.ipynb#X22sZmlsZQ%3D%3D?line=1'>2</a>\u001b[0m               \u001b[39m33429\u001b[39m, \u001b[39m140\u001b[39m, \u001b[39m11726.79\u001b[39m, \u001b[39m10\u001b[39m, \u001b[39m67\u001b[39m, \u001b[39m30\u001b[39m, \u001b[39m-\u001b[39m\u001b[39m105\u001b[39m]])\n",
      "\u001b[1;31mNameError\u001b[0m: name 'model' is not defined"
     ]
    }
   ],
   "source": [
    "model.predict([[17437.89, 44, 15745.71, 34, 15015, 30,\n",
    "              33429, 140, 11726.79, 10, 67, 30, -105]])\n"
   ]
  },
  {
   "cell_type": "code",
   "execution_count": null,
   "metadata": {},
   "outputs": [],
   "source": []
  },
  {
   "cell_type": "code",
   "execution_count": null,
   "metadata": {},
   "outputs": [
    {
     "name": "stdout",
     "output_type": "stream",
     "text": [
      "Accuracy =  0.7771739130434783\n"
     ]
    }
   ],
   "source": [
    "print(\"Accuracy = \",accuracy_score(test_labels,clf_pred))"
   ]
  },
  {
   "cell_type": "code",
   "execution_count": null,
   "metadata": {},
   "outputs": [
    {
     "data": {
      "image/png": "[encoded data removed]",
      "text/plain": [
       "<Figure size 432x288 with 2 Axes>"
      ]
     },
     "metadata": {
      "needs_background": "light"
     },
     "output_type": "display_data"
    }
   ],
   "source": [
    "import matplotlib.pyplot as plt\n",
    "\n",
    "from sklearn.datasets import make_classification\n",
    "from sklearn.metrics import confusion_matrix, ConfusionMatrixDisplay\n",
    "from sklearn.model_selection import train_test_split\n",
    "\n",
    "cm = confusion_matrix(test_labels, clf_pred, labels= model.classes_)\n",
    "\n",
    "disp = ConfusionMatrixDisplay(confusion_matrix=cm,\n",
    "                               display_labels=model.classes_)\n",
    "disp.plot()\n",
    "plt.show()"
   ]
  },
  {
   "cell_type": "code",
   "execution_count": null,
   "metadata": {},
   "outputs": [],
   "source": []
  },
  {
   "cell_type": "code",
   "execution_count": null,
   "metadata": {},
   "outputs": [],
   "source": []
  }
 ],
 "metadata": {
  "kernelspec": {
   "display_name": "Python 3.8.9 64-bit",
   "language": "python",
   "name": "python3"
  },
  "language_info": {
   "codemirror_mode": {
    "name": "ipython",
    "version": 3
   },
   "file_extension": ".py",
   "mimetype": "text/x-python",
   "name": "python",
   "nbconvert_exporter": "python",
   "pygments_lexer": "ipython3",
   "version": "3.8.9"
  },
  "vscode": {
   "interpreter": {
    "hash": "570feb405e2e27c949193ac68f46852414290d515b0ba6e5d90d076ed2284471"
   }
  }
 },
 "nbformat": 4,
 "nbformat_minor": 4
}

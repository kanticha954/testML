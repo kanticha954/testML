{
 "cells": [
  {
   "cell_type": "code",
   "execution_count": 12,
   "metadata": {},
   "outputs": [
    {
     "name": "stdout",
     "output_type": "stream",
     "text": [
      "Enter the following details to make the predictions:- n\n",
      "StandardScaler()\n"
     ]
    }
   ],
   "source": [
    "import pickle\n",
    "import joblib\n",
    "import numpy as np\n",
    "from sklearn.preprocessing import StandardScaler, MinMaxScaler\n",
    "\n",
    "classifier = joblib.load('model2.h5')\n",
    "print(\"Enter the following details to make the predictions:- n\")\n",
    "\n",
    "with open('set_scaler.pkl', 'rb') as file:\n",
    "\n",
    "    # Call load method to deserialze\n",
    "    sc = pickle.load(file)\n",
    "\n",
    "    print(sc)\n"
   ]
  },
  {
   "cell_type": "code",
   "execution_count": 13,
   "metadata": {},
   "outputs": [],
   "source": [
    "get_data = np.array([[17437.89, 44, 15745.71, 34, 15015, 30, 33429, 140, 11726.79, 10, 67, 30, -105],\n",
    "                    [27802.5, 106, 20769.38, 64, 47897.14, 227, 37180, 163, 37180, 163, 67, 49, -118], [10219.69, 1, 10923, 5, 23783.57, 82, 11726.79, 10, 11311.04, 7, 65, 48, -121]])"
   ]
  },
  {
   "cell_type": "code",
   "execution_count": 14,
   "metadata": {},
   "outputs": [
    {
     "name": "stderr",
     "output_type": "stream",
     "text": [
      "C:\\Users\\ASUS\\AppData\\Roaming\\Python\\Python38\\site-packages\\sklearn\\base.py:450: UserWarning: X does not have valid feature names, but StandardScaler was fitted with feature names\n",
      "  warnings.warn(\n"
     ]
    },
    {
     "data": {
      "text/plain": [
       "array([[ 0.09677511,  0.09142802, -0.34561962, -0.34811427, -0.35782957,\n",
       "        -0.35566339,  1.46101132,  1.4594846 , -0.6874634 , -0.68656352,\n",
       "         0.61829997, -0.74349423,  0.15052747],\n",
       "       [ 1.58867949,  1.58225093,  0.16437711,  0.15998478,  2.68936468,\n",
       "         2.68991361,  1.81639542,  1.82334439,  1.34963721,  1.35390693,\n",
       "         0.61829997,  0.19063337, -0.18107894],\n",
       "       [-0.94222821, -0.9425298 , -0.83521515, -0.83927668,  0.4547555 ,\n",
       "         0.44824526, -0.59513911, -0.59711417, -0.72073718, -0.72657275,\n",
       "         0.57211144,  0.14146876, -0.2576035 ]])"
      ]
     },
     "execution_count": 14,
     "metadata": {},
     "output_type": "execute_result"
    }
   ],
   "source": [
    "get_data = np.array([[17437.89, 44, 15745.71, 34, 15015, 30, 33429, 140, 11726.79, 10, 67, 30, -105],\n",
    "                    [27802.5, 106, 20769.38, 64, 47897.14, 227, 37180, 163, 37180, 163, 67, 49, -118], [10219.69, 1, 10923, 5, 23783.57, 82, 11726.79, 10, 11311.04, 7, 65, 48, -121]])\n",
    "get_data = sc.transform(get_data)\n",
    "get_data.reshape(-1, 1)\n",
    "\n",
    "get_data\n"
   ]
  },
  {
   "cell_type": "code",
   "execution_count": 15,
   "metadata": {},
   "outputs": [
    {
     "data": {
      "text/plain": [
       "array([1, 4, 3], dtype=int64)"
      ]
     },
     "execution_count": 15,
     "metadata": {},
     "output_type": "execute_result"
    }
   ],
   "source": [
    "result = classifier.predict(get_data)\n",
    "result\n"
   ]
  },
  {
   "cell_type": "code",
   "execution_count": 3,
   "metadata": {},
   "outputs": [
    {
     "ename": "ValueError",
     "evalue": "could not convert string to float: ''",
     "output_type": "error",
     "traceback": [
      "\u001b[1;31m---------------------------------------------------------------------------\u001b[0m",
      "\u001b[1;31mValueError\u001b[0m                                Traceback (most recent call last)",
      "\u001b[1;32mc:\\Users\\ASUS\\Downloads\\testML\\model\\test1.ipynb Cell 4\u001b[0m in \u001b[0;36m<cell line: 1>\u001b[1;34m()\u001b[0m\n\u001b[1;32m----> <a href='vscode-notebook-cell:/c%3A/Users/ASUS/Downloads/testML/model/test1.ipynb#W2sZmlsZQ%3D%3D?line=0'>1</a>\u001b[0m resistance_thumb \u001b[39m=\u001b[39m \u001b[39mfloat\u001b[39;49m(\u001b[39minput\u001b[39;49m(\u001b[39m\"\u001b[39;49m\u001b[39mEnter resistance_thumb:- \u001b[39;49m\u001b[39m\"\u001b[39;49m))\n\u001b[0;32m      <a href='vscode-notebook-cell:/c%3A/Users/ASUS/Downloads/testML/model/test1.ipynb#W2sZmlsZQ%3D%3D?line=1'>2</a>\u001b[0m bend_thumb \u001b[39m=\u001b[39m \u001b[39mint\u001b[39m(\u001b[39minput\u001b[39m(\u001b[39m\"\u001b[39m\u001b[39mEnter bend_thumb:- \u001b[39m\u001b[39m\"\u001b[39m))\n\u001b[0;32m      <a href='vscode-notebook-cell:/c%3A/Users/ASUS/Downloads/testML/model/test1.ipynb#W2sZmlsZQ%3D%3D?line=2'>3</a>\u001b[0m resistance_index \u001b[39m=\u001b[39m \u001b[39mfloat\u001b[39m(\u001b[39minput\u001b[39m(\u001b[39m\"\u001b[39m\u001b[39mEnter resistance_index:- \u001b[39m\u001b[39m\"\u001b[39m))\n",
      "\u001b[1;31mValueError\u001b[0m: could not convert string to float: ''"
     ]
    }
   ],
   "source": [
    "resistance_thumb = float(input(\"Enter resistance_thumb:- \"))\n",
    "bend_thumb = int(input(\"Enter bend_thumb:- \"))\n",
    "resistance_index = float(input(\"Enter resistance_index:- \"))\n",
    "bend_index = int(input(\"Enter bend_index:- \"))\n",
    "resistance_mid = float(input(\"Enter resistance_mid:- \"))\n",
    "bend_mid = int(input(\"Enter bend_mid:- \"))\n",
    "resistance_ring = float(input(\"Enter resistance_ring:- \"))\n",
    "bend_ring = int(input(\"Enter bend_ring:- \"))\n",
    "resistance_little = float(input(\"Enter resistance_little:- \"))\n",
    "bend_little = int(input(\"Enter bend_little:- \"))\n",
    "x = int(input(\"Enter X :- \"))\n",
    "y = int(input(\"Enter Y :- \"))\n",
    "z = int(input(\"Enter Z :- \"))\n",
    "\n",
    "get_data = np.array([[resistance_thumb, bend_thumb, resistance_index,\n",
    "                      bend_index, resistance_mid, bend_mid,\n",
    "                      resistance_ring, bend_ring,\n",
    "                      resistance_little, bend_little,\n",
    "                      x, y, z]])\n"
   ]
  },
  {
   "cell_type": "code",
   "execution_count": null,
   "metadata": {},
   "outputs": [],
   "source": [
    "model_pred = result\n",
    "\n",
    "model_pred\n",
    "\n",
    "if model_pred == 0:\n",
    "    print(\"Stage 0\")\n",
    "elif model_pred == 1:\n",
    "    print(\"Stage 1\")\n",
    "elif model_pred == 2:\n",
    "    print(\"Stage 2\")\n",
    "elif model_pred == 3:\n",
    "    print(\"Stage 3\")\n",
    "elif model_pred == 4:\n",
    "    print(\"Stage 4\")\n",
    "elif model_pred == 5:\n",
    "    print(\"Stage 5\")\n"
   ]
  }
 ],
 "metadata": {
  "kernelspec": {
   "display_name": "Python 3.8.9 64-bit",
   "language": "python",
   "name": "python3"
  },
  "language_info": {
   "codemirror_mode": {
    "name": "ipython",
    "version": 3
   },
   "file_extension": ".py",
   "mimetype": "text/x-python",
   "name": "python",
   "nbconvert_exporter": "python",
   "pygments_lexer": "ipython3",
   "version": "3.8.9"
  },
  "orig_nbformat": 4,
  "vscode": {
   "interpreter": {
    "hash": "570feb405e2e27c949193ac68f46852414290d515b0ba6e5d90d076ed2284471"
   }
  }
 },
 "nbformat": 4,
 "nbformat_minor": 2
}

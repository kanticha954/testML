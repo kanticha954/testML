{
 "cells": [
  {
   "cell_type": "code",
   "execution_count": 58,
   "metadata": {},
   "outputs": [
    {
     "name": "stdout",
     "output_type": "stream",
     "text": [
      "Enter the following details to make the predictions:- n\n"
     ]
    }
   ],
   "source": [
    "import pickle\n",
    "import joblib\n",
    "import numpy as np\n",
    "from sklearn.preprocessing import StandardScaler, MinMaxScaler\n",
    "\n",
    "classifier = joblib.load('model2.h5')\n",
    "print(\"Enter the following details to make the predictions:- n\")\n",
    "\n",
    "sc = joblib.load('std_scaler.pkl')\n"
   ]
  },
  {
   "cell_type": "code",
   "execution_count": null,
   "metadata": {},
   "outputs": [],
   "source": [
    "#get_data = np.array([[17437.89, 44, 15745.71, 34, 15015, 30, 33429, 140, 11726.79, 10, 67, 30, -105],\n",
    "#                    [27802.5, 106, 20769.38, 64, 47897.14, 227, 37180, 163, 37180, 163, 67, 49, -118], [10219.69, 1, 10923, 5, 23783.57, 82, 11726.79, 10, 11311.04, 7, 65, 48, -121]])"
   ]
  },
  {
   "cell_type": "code",
   "execution_count": null,
   "metadata": {},
   "outputs": [],
   "source": [
    "resistance_thumb = float(input(\"Enter resistance_thumb:- \"))\n",
    "bend_thumb = int(input(\"Enter bend_thumb:- \"))\n",
    "resistance_index = float(input(\"Enter resistance_index:- \"))\n",
    "bend_index = int(input(\"Enter bend_index:- \"))\n",
    "resistance_mid = float(input(\"Enter resistance_mid:- \"))\n",
    "bend_mid = int(input(\"Enter bend_mid:- \"))\n",
    "resistance_ring = float(input(\"Enter resistance_ring:- \"))\n",
    "bend_ring = int(input(\"Enter bend_ring:- \"))\n",
    "resistance_little = float(input(\"Enter resistance_little:- \"))\n",
    "bend_little = int(input(\"Enter bend_little:- \"))\n",
    "x = int(input(\"Enter X :- \"))\n",
    "y = int(input(\"Enter Y :- \"))\n",
    "z = int(input(\"Enter Z :- \"))\n",
    "\n",
    "get_data = np.array([[resistance_thumb, bend_thumb, resistance_index,\n",
    "                      bend_index, resistance_mid, bend_mid,\n",
    "                      resistance_ring, bend_ring,\n",
    "                      resistance_little, bend_little,\n",
    "                      x, y, z]])\n"
   ]
  },
  {
   "cell_type": "code",
   "execution_count": null,
   "metadata": {},
   "outputs": [],
   "source": [
    "get_data = sc.transform(get_data)\n",
    "get_data.reshape(-1, 1)\n",
    "\n",
    "result = classifier.predict(get_data)\n",
    "result\n"
   ]
  },
  {
   "cell_type": "code",
   "execution_count": null,
   "metadata": {},
   "outputs": [],
   "source": [
    "model_pred = result\n",
    "\n",
    "model_pred\n",
    "\n",
    "if model_pred == 0:\n",
    "    print(\"Stage 0\")\n",
    "elif model_pred == 1:\n",
    "    print(\"Stage 1\")\n",
    "elif model_pred == 2:\n",
    "    print(\"Stage 2\")\n",
    "elif model_pred == 3:\n",
    "    print(\"Stage 3\")\n",
    "elif model_pred == 4:\n",
    "    print(\"Stage 4\")\n",
    "elif model_pred == 5:\n",
    "    print(\"Stage 5\")\n"
   ]
  }
 ],
 "metadata": {
  "kernelspec": {
   "display_name": "Python 3.8.9 64-bit",
   "language": "python",
   "name": "python3"
  },
  "language_info": {
   "codemirror_mode": {
    "name": "ipython",
    "version": 3
   },
   "file_extension": ".py",
   "mimetype": "text/x-python",
   "name": "python",
   "nbconvert_exporter": "python",
   "pygments_lexer": "ipython3",
   "version": "3.8.9"
  },
  "orig_nbformat": 4,
  "vscode": {
   "interpreter": {
    "hash": "570feb405e2e27c949193ac68f46852414290d515b0ba6e5d90d076ed2284471"
   }
  }
 },
 "nbformat": 4,
 "nbformat_minor": 2
}
